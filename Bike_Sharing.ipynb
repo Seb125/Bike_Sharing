{
 "cells": [
  {
   "cell_type": "markdown",
   "metadata": {},
   "source": [
    "# Urban cycling - Predicting bike rentals\n",
    "\n",
    "## Motivation\n",
    "\n",
    "In light of the current climate crisis, bicycles are gaining in importance as a low- emission means of transportation. Increased use of bicycles can also improve air quality in large cities, as well as help relieve traffic congestion. Compared to the conventional use of bicycles, bike sharing systems offer the advantage of data collection regarding travel time, departure and arrival locations. This data can be used to predict how many people will rent a bike on a certain day or at a certain time of day. These insights may be valuable for a stronger integration of bicycles into traffic.\n",
    "\n",
    "## Dataset\n",
    "\n",
    "The dataset for this project comes from the \"Capital Bikeshare\" program, which is based in Washington, D.C.. Over a two-year period (2011 - 2012), the dataset contains the number of daily as well as hourly bike rentals. These are further broken down into rentals by registered and casual users. In addition, the dataset provides a variety of attributes, both in terms of weather data, and in terms of various calendar information, such as season, vacation, month. In total, the dataset contains 17389 rows and 16 columns.\n",
    "Source: https://archive.ics.uci.edu/ml/machine-learning-databases/00275/\n",
    "\n",
    "## Research Questions\n",
    "\n",
    "How well can the daily use of bicycles in cities be predicted?  \n",
    "● Can the number of daily bicycle rentals in Washington be predicted using weather data and calendar information?  \n",
    "● Which of these features are most important for predicting bikerentals in Washington D.C.?  \n",
    "● How are casual users different from registered users (This notebook addresses only registered users)?  "
   ]
  },
  {
   "cell_type": "code",
   "execution_count": 1,
   "metadata": {},
   "outputs": [],
   "source": [
    "import pandas as pd\n",
    "import matplotlib.pyplot as plt\n",
    "import numpy as np\n",
    "from sklearn import linear_model\n",
    "from sklearn.preprocessing import StandardScaler\n",
    "from sklearn.model_selection import train_test_split\n",
    "from sklearn.metrics import mean_squared_error\n",
    "from math import sqrt\n",
    "import seaborn as sns\n",
    "from math import sqrt"
   ]
  },
  {
   "cell_type": "code",
   "execution_count": 2,
   "metadata": {},
   "outputs": [],
   "source": [
    "df = pd.read_csv('./Bike-Sharing-Dataset/day.csv', sep=',')"
   ]
  },
  {
   "cell_type": "code",
   "execution_count": 3,
   "metadata": {},
   "outputs": [],
   "source": [
    "# Features were already transformed (in some way) in the dataset. Here I recover the original data and then normalize\n",
    "# them using Stadard Scaler\n",
    "\n",
    "df['temp_org'] = df['temp']*(39-(-8)) + (-8)\n",
    "df['atemp_org'] = df['atemp']*(50-(-16)) + (-16)\n",
    "df['windspeed_org'] = df['windspeed']*100\n",
    "df['hum_org'] = df['hum']*67\n",
    "\n",
    "data_num = df[['atemp_org', 'temp_org', 'hum_org', 'windspeed_org']].copy()\n",
    "\n",
    "X_num = StandardScaler().fit_transform(data_num)\n",
    "\n",
    "# Normalized data is added to the dataframe\n",
    "\n",
    "df['atemp_norm'] = X_num[:,0]\n",
    "df['temp_norm'] = X_num[:,1]\n",
    "df['hum_norm'] = X_num[:,2]\n",
    "df['windspeed_norm'] = X_num[:,3]"
   ]
  },
  {
   "cell_type": "markdown",
   "metadata": {},
   "source": [
    "## Dealing with correlation among feature variables:"
   ]
  },
  {
   "cell_type": "markdown",
   "metadata": {},
   "source": [
    "# Multicollinearity\n",
    "\n",
    "Bloomberg: https://bloomberg.github.io/foml/#lectures   \n",
    "When performing linear regression we obtain the normal equations $A^TAx = A^Ty$ where\n",
    "$A \\in R^{m×n}$, $x \\in R^n$, and $y \\in R$.\n",
    "If rank(A) = n then solve the normal equations for x.\n",
    "What if rank(A) $\\neq n$ (perfect mulitcollinearity)?\n",
    "Then the equation always has infinitely many solutions x. First note\n",
    "that rank(A) $\\neq n$ implies rank(A) $< n$ since you cannot have larger rank than\n",
    "the number of columns. Next, recall $rank(A) = rank(A^T A)$. Hence, by rank-\n",
    "nullity, $A^TA$ has a non-trivial nullspace, which in turn implies that if there is a\n",
    "solution, there must be infinitely many solutions. Thus we cannot compute the inverse of $A^TA$\n",
    "\n",
    "Wikipedia :https://en.wikipedia.org/wiki/Multicollinearity  \n",
    "In practice, perfect multicollinearity in a data set is rare. More commonly, the issue of multicollinearity arises when there is an approximate linear relationship among two or more independent variables. For variables that are nearly perfectly multicollinear a given computer algorithm may or may not be able to compute an approximate inverse, and if it does so the resulting computed inverse may be highly sensitive to slight variations in the data (due to magnified effects of either rounding error or slight variations in the sampled data points) and so may be very inaccurate or very sample-dependent. Thus $w = (A^TA)^{−1}X^Ty$, the coefficient estimates of the multiple regression may change erratically in response to small changes in the model or the data. Multicollinearity does not reduce the predictive power or reliability of the model as a whole, at least within the sample data set; it only affects calculations regarding individual predictors. That is, a multivariate regression model with collinear predictors can indicate how well the entire bundle of predictors predicts the outcome variable, but it may not give valid results about any individual predictor, or about which predictors are redundant with respect to others.   \n",
    "\n",
    "## Empirical Risk of Square Loss  (https://bloomberg.github.io/foml/#lectures)\n",
    "\n",
    "Denote the empirical risk of $f(x) = w^Tx$ by  \n",
    "$\\hat{R}_n(w) = \\frac{1}{n} ||Xw - y||^2$   where X is the design matrix.  \n",
    "$\\hat{R}_n$ is minimized by $\\hat{w} = (X^TX)^{-1} X^Ty$, the OLS solution.  \n",
    "What does $\\hat{R}_n$ look like around $\\hat{w}$ ?  \n",
    "By \"completing the square\", we can show for any $w \\in R^d$:  \n",
    "  \n",
    "$\\hat{R}_n(w) = \\frac{1}{n} (w - \\hat{w})^TX^TX(w - \\hat{w}) + \\hat{R}_n(\\hat{w})$  \n",
    "\n",
    "Set of w with $\\hat{R}_n(w)$ exceeding $\\hat{R}_n(\\hat{w})$ by $c >0$ is  \n",
    "\n",
    "$\\{w | \\hat{R}_n(w) = c + \\hat{R}_n(\\hat{w})\\} = \\{w | (w - \\hat{w})^TX^TX(w - \\hat{w}) = nc\\}$    \n",
    "\n",
    "which is an ellipsoid centered at $\\hat{w}$ ($\\hat{\\beta}$ in the picture below).  \n",
    "\n",
    "Hastie et al.:  \n",
    "\n",
    "![Hastie et al.](ell.png)\n",
    "\n",
    "\n",
    "Blue region: Area satisfying complexity constraint: left: $|w_1| + |w_2| <= r$, right: $w_1^2 + w_2^2 <= r$\n",
    "\n",
    "\n",
    "## Linear dependent features\n",
    "\n",
    "Suppose we have only one feature $x_1$ and the ERM is $\\hat{f}(x_1) = 4x_1$. \n",
    "\n",
    "What happens if we get a new feature $x_2 = x_1$  ?  \n",
    "\n",
    "Now we have an infinite amount of possible ERMs with $w_1 + w_2 = 4$, e.g.:  \n",
    "\n",
    "$\\hat{f}(x_1, x_2) = 4x_1$  \n",
    "$\\hat{f}(x_1, x_2) = 2x_1 + 2x_2$  \n",
    "$\\hat{f}(x_1, x_2) = 4x_2$  \n",
    "\n",
    "This is the case of perfect multicollinearity.  \n",
    "\n",
    "What if we introduce $l_1$ or $l_2$ regularization?  \n",
    "\n",
    "$\\hat{f}(x_1, x_2) = w_1x_1 + w_2x_2$ is an ERM iff $w_1 + w_2 = 4$.  \n",
    "\n",
    "Consider the $l_1$ and $l_2$ norm of various solutions:  \n",
    "\n",
    "\n",
    "|$w_1$  | $w_2$  | $l_1$       | $l_2$        |\n",
    "|:-----:|:------:|:-----------:|:------------:|\n",
    "| 4     | 0      | 4           | 16           |\n",
    "| 2     | 2      | 4           | 8            |\n",
    "| 1     | 3      | 4           | 10           |\n",
    "| -1    | 5      | 6           | 26           |\n",
    "\n",
    "\n",
    "$||w||_1$ doesnt discriminate, as long as all have the same sign  \n",
    "$||w||_2^2$ minimized when weight is spread equally  \n",
    "\n",
    "Geometric view: In the picture above for linearly dependent features we get a degenerate ellipse with an infinite major axis $(X^TX$ is going to have at least one eigenvalue = 0). For the $l_2$ norm a parallel line hits the norm-ball at a point, where $w_1$ = $w_2$. \n",
    "\n",
    "### Linearly related features\n",
    "\n",
    "Same setup, now suppose $x_2 = 2x_1$. \n",
    "Then all functions with $w_1 + 2w_2 = k$ are the same.  \n",
    "For $l_1$ or $l_2$ regularization you want to put more weight on the feature that is the larger scaled version, because the parameter you need is smaller.\n",
    "For the $l_2$ constraint we hit tne norm-ball at $w_2 = 2w_1$.\n",
    "For the $l_a$ constraint we hit tne norm-ball at a corner, with $w_1 = 0$.\n",
    "\n",
    "## Summary:  \n",
    "Identical features:  \n",
    "$l_1$ regularization spreads weight arbitrarily  (all weights same sign)  \n",
    "$l_2$ regularization spreads weight evenly\n",
    "\n",
    "Linearly related features:  \n",
    "$l_1$ regularization chooses variable with larger scale, 0 weight to others  \n",
    "$l_2$ regularization prefers variables with larger scale, spreads weight proportional to scale\n",
    "\n",
    "Note: In practice you rescale your features to have the same magnitude\n",
    "\n",
    "## Correlated features\n",
    "\n",
    "Suppose $x_1$ and $x_2$ are highly correlated and have the same scale (leads to strechted out ellipses)  \n",
    "This is typicla scenario after normalizing your data  \n",
    "The higher the correlation, the closer we come to degenerate ellipsoids\n",
    "\n",
    "For $l_1$ regularization  minor perturbations in data can then drastically change intersection point with the norm-diamond.   \n",
    "This makes division of weight among highly correlated features (of same scale) seem arbitrary.  \n",
    "    If $x_1 \\approx 2x_2$, ellipse changes orientation and we probably hit a corner."
   ]
  },
  {
   "cell_type": "markdown",
   "metadata": {},
   "source": [
    "### Highly correlated features were not included into the dataset together\n",
    "#### E.g.: Person Corr. of Temperature and perceived temperature: 0.99\n",
    "\n",
    "One of the research question is about identifying important features for predicting bike rentals. Although highly correlated features might not worsen the predicitve ability of the model they make the  coefficient estimates unstable and the individual contribution of predictors can't be interpreted. Especially for the $l_1$ regularization slight changes in the data can lead to drastically changing coefficients."
   ]
  },
  {
   "cell_type": "code",
   "execution_count": 4,
   "metadata": {},
   "outputs": [
    {
     "data": {
      "text/html": [
       "<div>\n",
       "<style scoped>\n",
       "    .dataframe tbody tr th:only-of-type {\n",
       "        vertical-align: middle;\n",
       "    }\n",
       "\n",
       "    .dataframe tbody tr th {\n",
       "        vertical-align: top;\n",
       "    }\n",
       "\n",
       "    .dataframe thead th {\n",
       "        text-align: right;\n",
       "    }\n",
       "</style>\n",
       "<table border=\"1\" class=\"dataframe\">\n",
       "  <thead>\n",
       "    <tr style=\"text-align: right;\">\n",
       "      <th></th>\n",
       "      <th>atemp_norm</th>\n",
       "      <th>hum_norm</th>\n",
       "      <th>windspeed_norm</th>\n",
       "      <th>holiday</th>\n",
       "      <th>workingday</th>\n",
       "      <th>season1</th>\n",
       "      <th>season2</th>\n",
       "      <th>season3</th>\n",
       "      <th>season4</th>\n",
       "      <th>weathersit1</th>\n",
       "      <th>weathersit2</th>\n",
       "      <th>weathersit3</th>\n",
       "    </tr>\n",
       "  </thead>\n",
       "  <tbody>\n",
       "    <tr>\n",
       "      <th>0</th>\n",
       "      <td>-0.679946</td>\n",
       "      <td>1.250171</td>\n",
       "      <td>-0.387892</td>\n",
       "      <td>0</td>\n",
       "      <td>0</td>\n",
       "      <td>1.0</td>\n",
       "      <td>0.0</td>\n",
       "      <td>0.0</td>\n",
       "      <td>0.0</td>\n",
       "      <td>0.0</td>\n",
       "      <td>1.0</td>\n",
       "      <td>0.0</td>\n",
       "    </tr>\n",
       "    <tr>\n",
       "      <th>1</th>\n",
       "      <td>-0.740652</td>\n",
       "      <td>0.479113</td>\n",
       "      <td>0.749602</td>\n",
       "      <td>0</td>\n",
       "      <td>0</td>\n",
       "      <td>1.0</td>\n",
       "      <td>0.0</td>\n",
       "      <td>0.0</td>\n",
       "      <td>0.0</td>\n",
       "      <td>0.0</td>\n",
       "      <td>1.0</td>\n",
       "      <td>0.0</td>\n",
       "    </tr>\n",
       "    <tr>\n",
       "      <th>2</th>\n",
       "      <td>-1.749767</td>\n",
       "      <td>-1.339274</td>\n",
       "      <td>0.746632</td>\n",
       "      <td>0</td>\n",
       "      <td>1</td>\n",
       "      <td>1.0</td>\n",
       "      <td>0.0</td>\n",
       "      <td>0.0</td>\n",
       "      <td>0.0</td>\n",
       "      <td>1.0</td>\n",
       "      <td>0.0</td>\n",
       "      <td>0.0</td>\n",
       "    </tr>\n",
       "    <tr>\n",
       "      <th>3</th>\n",
       "      <td>-1.610270</td>\n",
       "      <td>-0.263182</td>\n",
       "      <td>-0.389829</td>\n",
       "      <td>0</td>\n",
       "      <td>1</td>\n",
       "      <td>1.0</td>\n",
       "      <td>0.0</td>\n",
       "      <td>0.0</td>\n",
       "      <td>0.0</td>\n",
       "      <td>1.0</td>\n",
       "      <td>0.0</td>\n",
       "      <td>0.0</td>\n",
       "    </tr>\n",
       "    <tr>\n",
       "      <th>4</th>\n",
       "      <td>-1.504971</td>\n",
       "      <td>-1.341494</td>\n",
       "      <td>-0.046307</td>\n",
       "      <td>0</td>\n",
       "      <td>1</td>\n",
       "      <td>1.0</td>\n",
       "      <td>0.0</td>\n",
       "      <td>0.0</td>\n",
       "      <td>0.0</td>\n",
       "      <td>1.0</td>\n",
       "      <td>0.0</td>\n",
       "      <td>0.0</td>\n",
       "    </tr>\n",
       "    <tr>\n",
       "      <th>...</th>\n",
       "      <td>...</td>\n",
       "      <td>...</td>\n",
       "      <td>...</td>\n",
       "      <td>...</td>\n",
       "      <td>...</td>\n",
       "      <td>...</td>\n",
       "      <td>...</td>\n",
       "      <td>...</td>\n",
       "      <td>...</td>\n",
       "      <td>...</td>\n",
       "      <td>...</td>\n",
       "      <td>...</td>\n",
       "    </tr>\n",
       "    <tr>\n",
       "      <th>726</th>\n",
       "      <td>-1.521108</td>\n",
       "      <td>0.175807</td>\n",
       "      <td>2.061426</td>\n",
       "      <td>0</td>\n",
       "      <td>1</td>\n",
       "      <td>1.0</td>\n",
       "      <td>0.0</td>\n",
       "      <td>0.0</td>\n",
       "      <td>0.0</td>\n",
       "      <td>0.0</td>\n",
       "      <td>1.0</td>\n",
       "      <td>0.0</td>\n",
       "    </tr>\n",
       "    <tr>\n",
       "      <th>727</th>\n",
       "      <td>-1.346690</td>\n",
       "      <td>-0.266238</td>\n",
       "      <td>-0.452131</td>\n",
       "      <td>0</td>\n",
       "      <td>1</td>\n",
       "      <td>1.0</td>\n",
       "      <td>0.0</td>\n",
       "      <td>0.0</td>\n",
       "      <td>0.0</td>\n",
       "      <td>0.0</td>\n",
       "      <td>1.0</td>\n",
       "      <td>0.0</td>\n",
       "    </tr>\n",
       "    <tr>\n",
       "      <th>728</th>\n",
       "      <td>-1.424344</td>\n",
       "      <td>0.878392</td>\n",
       "      <td>-0.853552</td>\n",
       "      <td>0</td>\n",
       "      <td>0</td>\n",
       "      <td>1.0</td>\n",
       "      <td>0.0</td>\n",
       "      <td>0.0</td>\n",
       "      <td>0.0</td>\n",
       "      <td>0.0</td>\n",
       "      <td>1.0</td>\n",
       "      <td>0.0</td>\n",
       "    </tr>\n",
       "    <tr>\n",
       "      <th>729</th>\n",
       "      <td>-1.490049</td>\n",
       "      <td>-1.015664</td>\n",
       "      <td>2.069444</td>\n",
       "      <td>0</td>\n",
       "      <td>0</td>\n",
       "      <td>1.0</td>\n",
       "      <td>0.0</td>\n",
       "      <td>0.0</td>\n",
       "      <td>0.0</td>\n",
       "      <td>1.0</td>\n",
       "      <td>0.0</td>\n",
       "      <td>0.0</td>\n",
       "    </tr>\n",
       "    <tr>\n",
       "      <th>730</th>\n",
       "      <td>-1.540482</td>\n",
       "      <td>-0.354061</td>\n",
       "      <td>-0.460201</td>\n",
       "      <td>0</td>\n",
       "      <td>1</td>\n",
       "      <td>1.0</td>\n",
       "      <td>0.0</td>\n",
       "      <td>0.0</td>\n",
       "      <td>0.0</td>\n",
       "      <td>0.0</td>\n",
       "      <td>1.0</td>\n",
       "      <td>0.0</td>\n",
       "    </tr>\n",
       "  </tbody>\n",
       "</table>\n",
       "<p>731 rows × 12 columns</p>\n",
       "</div>"
      ],
      "text/plain": [
       "     atemp_norm  hum_norm  windspeed_norm  holiday  workingday  season1  \\\n",
       "0     -0.679946  1.250171       -0.387892        0           0      1.0   \n",
       "1     -0.740652  0.479113        0.749602        0           0      1.0   \n",
       "2     -1.749767 -1.339274        0.746632        0           1      1.0   \n",
       "3     -1.610270 -0.263182       -0.389829        0           1      1.0   \n",
       "4     -1.504971 -1.341494       -0.046307        0           1      1.0   \n",
       "..          ...       ...             ...      ...         ...      ...   \n",
       "726   -1.521108  0.175807        2.061426        0           1      1.0   \n",
       "727   -1.346690 -0.266238       -0.452131        0           1      1.0   \n",
       "728   -1.424344  0.878392       -0.853552        0           0      1.0   \n",
       "729   -1.490049 -1.015664        2.069444        0           0      1.0   \n",
       "730   -1.540482 -0.354061       -0.460201        0           1      1.0   \n",
       "\n",
       "     season2  season3  season4  weathersit1  weathersit2  weathersit3  \n",
       "0        0.0      0.0      0.0          0.0          1.0          0.0  \n",
       "1        0.0      0.0      0.0          0.0          1.0          0.0  \n",
       "2        0.0      0.0      0.0          1.0          0.0          0.0  \n",
       "3        0.0      0.0      0.0          1.0          0.0          0.0  \n",
       "4        0.0      0.0      0.0          1.0          0.0          0.0  \n",
       "..       ...      ...      ...          ...          ...          ...  \n",
       "726      0.0      0.0      0.0          0.0          1.0          0.0  \n",
       "727      0.0      0.0      0.0          0.0          1.0          0.0  \n",
       "728      0.0      0.0      0.0          0.0          1.0          0.0  \n",
       "729      0.0      0.0      0.0          1.0          0.0          0.0  \n",
       "730      0.0      0.0      0.0          0.0          1.0          0.0  \n",
       "\n",
       "[731 rows x 12 columns]"
      ]
     },
     "execution_count": 4,
     "metadata": {},
     "output_type": "execute_result"
    }
   ],
   "source": [
    "# Selecting features\n",
    "\n",
    "numercial_features = ['atemp_norm', 'hum_norm', 'windspeed_norm', 'holiday',\n",
    "       'workingday']\n",
    "\n",
    "categorical_features = ['season','weathersit']\n",
    "\n",
    "X = df[numercial_features]\n",
    "\n",
    "# One-Hot Encoding for categorical variables\n",
    "\n",
    "from sklearn.preprocessing import OneHotEncoder\n",
    "\n",
    "categorical_data = df[categorical_features]\n",
    "\n",
    "# 1. INSTANTIATE\n",
    "enc = OneHotEncoder()\n",
    "\n",
    "# 2. FIT\n",
    "enc.fit(categorical_data)\n",
    "\n",
    "# 3. Transform\n",
    "onehotlabels = enc.transform(categorical_data).toarray()\n",
    "\n",
    "cat_onehot_df = pd.DataFrame(onehotlabels, columns = ['season1', 'season2', 'season3', 'season4', 'weathersit1', 'weathersit2', 'weathersit3'])\n",
    "\n",
    "X = pd.concat([X,cat_onehot_df], axis = 1, join = 'inner')\n",
    "X"
   ]
  },
  {
   "cell_type": "code",
   "execution_count": 5,
   "metadata": {},
   "outputs": [],
   "source": [
    "# The responsse variable is the number of bike rentals for registered users\n",
    "y = df['registered']\n",
    "\n",
    "# Doing a train test split of the data set\n",
    "X_train, X_test, y_train, y_test = train_test_split(X, y, random_state=42)"
   ]
  },
  {
   "cell_type": "code",
   "execution_count": 6,
   "metadata": {},
   "outputs": [
    {
     "data": {
      "text/plain": [
       "1.0"
      ]
     },
     "execution_count": 6,
     "metadata": {},
     "output_type": "execute_result"
    }
   ],
   "source": [
    "# Now I want to fit a regularized regression model (l2 norm) to the training dataset\n",
    "\n",
    "from sklearn.linear_model import Ridge\n",
    "from sklearn.linear_model import RidgeCV\n",
    "from sklearn.metrics import r2_score\n",
    "\n",
    "# the \"best\" value for the regularaization parameter alpha is obtained using Cross-Validation\n",
    "\n",
    "model_rigde = RidgeCV(alphas=np.logspace(-10, 10, 21), fit_intercept=True)\n",
    "        \n",
    "model_rigde.fit(X_train, y_train)\n",
    "\n",
    "model_rigde.alpha_\n",
    "\n"
   ]
  },
  {
   "cell_type": "markdown",
   "metadata": {},
   "source": [
    "Then we check the performance of the computed model plotting its predictions\n",
    "on the test set and computing,\n",
    "for example, the mean squared error of the model.\n",
    "\n"
   ]
  },
  {
   "cell_type": "code",
   "execution_count": 7,
   "metadata": {},
   "outputs": [
    {
     "data": {
      "image/png": "[encoded data removed]",
      "text/plain": [
       "<Figure size 360x360 with 1 Axes>"
      ]
     },
     "metadata": {
      "needs_background": "light"
     },
     "output_type": "display_data"
    }
   ],
   "source": [
    "y_pred = model_rigde.predict(X_train)\n",
    "\n",
    "mae = sqrt(mean_squared_error(y_true = y_train, y_pred = y_pred))\n",
    "c_det = r2_score(y_train, y_pred)\n",
    "string_score = f\"Training set: RMSE: {mae:.2f}\" + \", \" + \" R^2: \"  + \"{:.2f}\".format(c_det)\n",
    "y_pred = model_rigde.predict(X_test)\n",
    "mae = sqrt(mean_squared_error(y_true = y_test, y_pred = y_pred))\n",
    "c_det = r2_score(y_test, y_pred)\n",
    "string_score += f\"\\nTesting set: RMSE: {mae:.2f}\" + \", \" + \" R^2: \"  + \"{:.2f}\".format(c_det) \n",
    "fig, ax = plt.subplots(figsize=(5, 5))\n",
    "plt.scatter(y_test, y_pred)\n",
    "ax.plot([0, 1], [0, 1], transform=ax.transAxes, ls=\"--\", c=\"red\")\n",
    "ax.annotate('RMSE: Root mean squared error \\n R^2: Coefficient of determination', xy=(220, -40), xycoords='axes points',\n",
    "            size=10, ha='right', va='top',\n",
    "            bbox=dict(boxstyle='round', fc='w'))\n",
    "plt.text(3, 20, string_score)\n",
    "plt.title(\"Ridge regression (\\u03B1 = 1.0) for registered users\", x=0.5, y=1.03)\n",
    "plt.ylabel(\"Model predictions\")\n",
    "plt.xlabel(\"Truths\")\n",
    "plt.xlim([0, 8000])\n",
    "_ = plt.ylim([0, 8000])\n",
    "plt.savefig('  Number of registered bike rentals ', dpi = 500, bbox_inches='tight')"
   ]
  },
  {
   "cell_type": "markdown",
   "metadata": {},
   "source": [
    "Although the datapoints are somewhat uniformly distributed around the diagonal, the coefficient of determination is rater low, both for training and test data. As the performance of the model is slightly better on the test data set, the model complexity is probably rather on the low side. Here might be room for improvement. Low $R^2$ values also questions interpreting the models coefficients, as they might change for model that has greater predictive power. Nevertheless I want to proceed trying to interpret feature importance for this particular model."
   ]
  },
  {
   "cell_type": "markdown",
   "metadata": {},
   "source": [
    "## Interpreting coefficients\n",
    "\n",
    "First of all, we can take a look to the values of the coefficients of the\n",
    "regressor we have fitted."
   ]
  },
  {
   "cell_type": "code",
   "execution_count": 9,
   "metadata": {},
   "outputs": [
    {
     "data": {
      "text/html": [
       "<div>\n",
       "<style scoped>\n",
       "    .dataframe tbody tr th:only-of-type {\n",
       "        vertical-align: middle;\n",
       "    }\n",
       "\n",
       "    .dataframe tbody tr th {\n",
       "        vertical-align: top;\n",
       "    }\n",
       "\n",
       "    .dataframe thead th {\n",
       "        text-align: right;\n",
       "    }\n",
       "</style>\n",
       "<table border=\"1\" class=\"dataframe\">\n",
       "  <thead>\n",
       "    <tr style=\"text-align: right;\">\n",
       "      <th></th>\n",
       "      <th>Coefficients</th>\n",
       "    </tr>\n",
       "  </thead>\n",
       "  <tbody>\n",
       "    <tr>\n",
       "      <th>atemp_norm</th>\n",
       "      <td>768.057721</td>\n",
       "    </tr>\n",
       "    <tr>\n",
       "      <th>hum_norm</th>\n",
       "      <td>-246.869372</td>\n",
       "    </tr>\n",
       "    <tr>\n",
       "      <th>windspeed_norm</th>\n",
       "      <td>-128.234429</td>\n",
       "    </tr>\n",
       "    <tr>\n",
       "      <th>holiday</th>\n",
       "      <td>-171.295155</td>\n",
       "    </tr>\n",
       "    <tr>\n",
       "      <th>workingday</th>\n",
       "      <td>922.525027</td>\n",
       "    </tr>\n",
       "    <tr>\n",
       "      <th>season1</th>\n",
       "      <td>-542.315422</td>\n",
       "    </tr>\n",
       "    <tr>\n",
       "      <th>season2</th>\n",
       "      <td>23.329909</td>\n",
       "    </tr>\n",
       "    <tr>\n",
       "      <th>season3</th>\n",
       "      <td>-229.796058</td>\n",
       "    </tr>\n",
       "    <tr>\n",
       "      <th>season4</th>\n",
       "      <td>748.781571</td>\n",
       "    </tr>\n",
       "    <tr>\n",
       "      <th>weathersit1</th>\n",
       "      <td>487.979402</td>\n",
       "    </tr>\n",
       "    <tr>\n",
       "      <th>weathersit2</th>\n",
       "      <td>328.579428</td>\n",
       "    </tr>\n",
       "    <tr>\n",
       "      <th>weathersit3</th>\n",
       "      <td>-816.558830</td>\n",
       "    </tr>\n",
       "  </tbody>\n",
       "</table>\n",
       "</div>"
      ],
      "text/plain": [
       "                Coefficients\n",
       "atemp_norm        768.057721\n",
       "hum_norm         -246.869372\n",
       "windspeed_norm   -128.234429\n",
       "holiday          -171.295155\n",
       "workingday        922.525027\n",
       "season1          -542.315422\n",
       "season2            23.329909\n",
       "season3          -229.796058\n",
       "season4           748.781571\n",
       "weathersit1       487.979402\n",
       "weathersit2       328.579428\n",
       "weathersit3      -816.558830"
      ]
     },
     "execution_count": 9,
     "metadata": {},
     "output_type": "execute_result"
    }
   ],
   "source": [
    "feature_names = X.columns\n",
    "\n",
    "coefs = pd.DataFrame(\n",
    "    model_rigde.coef_,\n",
    "    columns=[\"Coefficients\"],\n",
    "    index=feature_names,\n",
    ")\n",
    "\n",
    "coefs"
   ]
  },
  {
   "cell_type": "code",
   "execution_count": 10,
   "metadata": {},
   "outputs": [
    {
     "data": {
      "image/png": "[encoded data removed]",
      "text/plain": [
       "<Figure size 648x504 with 1 Axes>"
      ]
     },
     "metadata": {
      "needs_background": "light"
     },
     "output_type": "display_data"
    }
   ],
   "source": [
    "coefs.plot(kind=\"barh\", figsize=(9, 7))\n",
    "plt.title(\"Ridge model, small regularization\")\n",
    "plt.axvline(x=0, color=\".5\")\n",
    "plt.subplots_adjust(left=0.3)"
   ]
  },
  {
   "cell_type": "markdown",
   "metadata": {},
   "source": [
    "#### Example: Holiday feature"
   ]
  },
  {
   "cell_type": "code",
   "execution_count": 11,
   "metadata": {},
   "outputs": [],
   "source": [
    "training_set = X_train.copy()\n",
    "training_set[\"registered\"] = y_train\n"
   ]
  },
  {
   "cell_type": "code",
   "execution_count": 12,
   "metadata": {},
   "outputs": [
    {
     "name": "stdout",
     "output_type": "stream",
     "text": [
      "          registered  holiday\n",
      "holiday                      \n",
      "0        3715.672285      0.0\n",
      "1        2769.857143      1.0\n"
     ]
    },
    {
     "data": {
      "image/png": "[encoded data removed]",
      "text/plain": [
       "<Figure size 432x288 with 1 Axes>"
      ]
     },
     "metadata": {
      "needs_background": "light"
     },
     "output_type": "display_data"
    }
   ],
   "source": [
    "mean_data = training_set[[\"registered\", \"holiday\"]].groupby(X_train[\"holiday\"]).mean()\n",
    "print(mean_data)\n",
    "\n",
    "plt.bar(mean_data.index, mean_data['registered'])\n",
    "plt.xlabel(\"holiday\")\n",
    "plt.show()"
   ]
  },
  {
   "cell_type": "markdown",
   "metadata": {},
   "source": [
    "For the feature \"holiday\" we have a negative coefficient of about -180. Thus moving from 0 (no holiday) to 1 on the holiday variable the number of registered bike rentals decreases. The coefficient value signifies how much the mean of the dependent variable changes given a one-unit shift in the independent variable while holding other variables in the model constant. My intuition is that to obtain the value of coefficients we are calculating partial derivatives of the objective function, treating other varibales as constant.\n",
    "For the \"holiday\" feature there are on average about 180 less bike rentals on an holiday compared to a regular day. This difference is not reflected in the plot above, as other variables in the model are not hold constant for this mean calculation. Also we are using regularized regression, where coefficients are getting smaller, dependeing on the regularization parameter. A larger regularization parameter is reducing the model complexity, which reduces the variance of the model."
   ]
  },
  {
   "cell_type": "markdown",
   "metadata": {},
   "source": [
    "## Note: Bias variance dilemma\n",
    "\n",
    "It is assumed that there is a functional but noisy relation between $x_i$ and $y_i$ described by $y_i = f (x_i) + \\epsilon$ with variance of $\\epsilon$ eaual to $\\sigma^2$. Now, using a learning algorithm, find a function $\\hat{f}(x)$ that approximates the true function $y = f(x)$ as closely as possible.\n",
    "\n",
    "It turns out that depending on the choice of the function $\\hat{f}(x)$ the expected deviation with respect to an unseen sample x can be decomposed as follows.  \n",
    "\n",
    "$E[(y - \\hat{f}(x))^2] = Bias[\\hat{f}(x)]^2 + Var[\\hat{f}(x)] + \\sigma^2$\n",
    "\n",
    "However, we cant simultaneously reduce Bias and variance of the model. The more complex the model function $\\hat{f}(x)$ is, the more data points it will capture correctly and the lower its bias will be. However, higher complexity makes the model function fluctuate more to better capture the data points, which thus increases its variance. \n",
    "With a larger regularization and a lower model complexity, the bias of the model increases, caused by simplifying assumptions within the procedure. For example, if a nonlinear function $f(x)$ is approximated using a learning procedure for linear models, there will be errors in the estimates $\\hat{f}(x)$ due to such an assumption."
   ]
  },
  {
   "cell_type": "markdown",
   "metadata": {},
   "source": [
    "## Feature importance\n",
    "\n",
    "Interpreting the importance of features is not trivial. In the current analysis we have standardized features that have low pairwise correlations. However we could still have an approximate linear relationship among more than two variables. \n",
    "Therefore I will also check for multi-collinearity by using Variance Inflation Factor(VIF) for each independent variable. The VIF for feature i is defined as $\\frac{1}{1-R^2_i}$, where $R^2_i$ is the coefficient of determination from running a regression of all the other features and a constant term on feature i.\n",
    "\n",
    "In OLS regression, if we use ont-hot encoding we usually leave out one level to avoid the issue of multicollinearity. According to this statement: https://stats.stackexchange.com/questions/231285/dropping-one-of-the-columns-when-using-one-hot-encoding for regularized regression the regularization takes care of the singularities, and more important, the prediction obtained may depend on which columns you leave out. Thus I did not leave out any of the one-hot encoded variables. Although we do not have a problem with singularities we still have a perfect linear relation between one of the one-hot encoded variables and the remaining ones (plus constant term). This is also reflected in VIF coefficients below."
   ]
  },
  {
   "cell_type": "code",
   "execution_count": 13,
   "metadata": {},
   "outputs": [
    {
     "name": "stderr",
     "output_type": "stream",
     "text": [
      "/Applications/anaconda3/lib/python3.8/site-packages/statsmodels/regression/linear_model.py:1685: RuntimeWarning: divide by zero encountered in double_scalars\n",
      "  return 1 - self.ssr/self.centered_tss\n",
      "/Applications/anaconda3/lib/python3.8/site-packages/statsmodels/stats/outliers_influence.py:193: RuntimeWarning: divide by zero encountered in double_scalars\n",
      "  vif = 1. / (1. - r_squared_i)\n"
     ]
    },
    {
     "data": {
      "text/html": [
       "<div>\n",
       "<style scoped>\n",
       "    .dataframe tbody tr th:only-of-type {\n",
       "        vertical-align: middle;\n",
       "    }\n",
       "\n",
       "    .dataframe tbody tr th {\n",
       "        vertical-align: top;\n",
       "    }\n",
       "\n",
       "    .dataframe thead th {\n",
       "        text-align: right;\n",
       "    }\n",
       "</style>\n",
       "<table border=\"1\" class=\"dataframe\">\n",
       "  <thead>\n",
       "    <tr style=\"text-align: right;\">\n",
       "      <th></th>\n",
       "      <th>features</th>\n",
       "      <th>vif_Factor</th>\n",
       "    </tr>\n",
       "  </thead>\n",
       "  <tbody>\n",
       "    <tr>\n",
       "      <th>0</th>\n",
       "      <td>const</td>\n",
       "      <td>0.000000</td>\n",
       "    </tr>\n",
       "    <tr>\n",
       "      <th>1</th>\n",
       "      <td>atemp_norm</td>\n",
       "      <td>3.401864</td>\n",
       "    </tr>\n",
       "    <tr>\n",
       "      <th>2</th>\n",
       "      <td>hum_norm</td>\n",
       "      <td>1.833202</td>\n",
       "    </tr>\n",
       "    <tr>\n",
       "      <th>3</th>\n",
       "      <td>windspeed_norm</td>\n",
       "      <td>1.181268</td>\n",
       "    </tr>\n",
       "    <tr>\n",
       "      <th>4</th>\n",
       "      <td>holiday</td>\n",
       "      <td>1.057614</td>\n",
       "    </tr>\n",
       "    <tr>\n",
       "      <th>5</th>\n",
       "      <td>workingday</td>\n",
       "      <td>1.066883</td>\n",
       "    </tr>\n",
       "    <tr>\n",
       "      <th>6</th>\n",
       "      <td>season1</td>\n",
       "      <td>inf</td>\n",
       "    </tr>\n",
       "    <tr>\n",
       "      <th>7</th>\n",
       "      <td>season2</td>\n",
       "      <td>inf</td>\n",
       "    </tr>\n",
       "    <tr>\n",
       "      <th>8</th>\n",
       "      <td>season3</td>\n",
       "      <td>inf</td>\n",
       "    </tr>\n",
       "    <tr>\n",
       "      <th>9</th>\n",
       "      <td>season4</td>\n",
       "      <td>inf</td>\n",
       "    </tr>\n",
       "    <tr>\n",
       "      <th>10</th>\n",
       "      <td>weathersit1</td>\n",
       "      <td>inf</td>\n",
       "    </tr>\n",
       "    <tr>\n",
       "      <th>11</th>\n",
       "      <td>weathersit2</td>\n",
       "      <td>inf</td>\n",
       "    </tr>\n",
       "    <tr>\n",
       "      <th>12</th>\n",
       "      <td>weathersit3</td>\n",
       "      <td>inf</td>\n",
       "    </tr>\n",
       "  </tbody>\n",
       "</table>\n",
       "</div>"
      ],
      "text/plain": [
       "          features  vif_Factor\n",
       "0            const    0.000000\n",
       "1       atemp_norm    3.401864\n",
       "2         hum_norm    1.833202\n",
       "3   windspeed_norm    1.181268\n",
       "4          holiday    1.057614\n",
       "5       workingday    1.066883\n",
       "6          season1         inf\n",
       "7          season2         inf\n",
       "8          season3         inf\n",
       "9          season4         inf\n",
       "10     weathersit1         inf\n",
       "11     weathersit2         inf\n",
       "12     weathersit3         inf"
      ]
     },
     "execution_count": 13,
     "metadata": {},
     "output_type": "execute_result"
    }
   ],
   "source": [
    "from statsmodels.stats.outliers_influence import variance_inflation_factor\n",
    "from statsmodels.tools.tools import add_constant\n",
    "\n",
    "df_vif = X_train.copy()\n",
    "df_vif = add_constant(df_vif)\n",
    "\n",
    "vif = pd.DataFrame()\n",
    "vif[\"features\"] = df_vif.columns\n",
    "vif[\"vif_Factor\"] = [variance_inflation_factor(df_vif.values, i) for i in range(df_vif.shape[1])]\n",
    "vif"
   ]
  },
  {
   "cell_type": "markdown",
   "metadata": {},
   "source": [
    "Apart form the one-hot ecoded variables we have rather low VIF values (all below 5), indicating no linear relationship between one of these variables and the remaining predictors. Thus we can interpret the size for these coefficients as their importance for predicting the number of bike rentals. Note however that the coefficients also change depending on the particular model. Thus the magnitude of a coefficient is related to the importance of the respective feature in a particular model, but not to its intrinsic predictive ability.\n",
    "\n",
    "Feature importance for VIF < 5:  \n",
    "\n",
    "The feature \"workingday\" has the largest coefficient, suggesting the largest influence on the number of bike rentals in our speficic model. One interpretation might be, that registered users use rent their bikes for daily tasks rather then for leisure activities on  weekends. The second largest coefficient belongs to the perceived temperature. This seems reasonable, as one probabaly prefers to ride a bike at warm temperatures. Humidity has the third largest coefficient, whereas people tend to rent less bikes, when the humidity is high. For all three coefficients their big influence on bike rentals is not surprising. "
   ]
  },
  {
   "cell_type": "markdown",
   "metadata": {},
   "source": [
    "## Stability of coefficients\n",
    "\n",
    "We can check the coefficient variability through cross-validation:\n",
    "it is a form of data perturbation (related to\n",
    "`resampling <https://en.wikipedia.org/wiki/Resampling_(statistics)>`_).\n",
    "\n",
    "If coefficients vary significantly when changing the input dataset\n",
    "their robustness is not guaranteed, and they should probably be interpreted\n",
    "with caution."
   ]
  },
  {
   "cell_type": "code",
   "execution_count": 16,
   "metadata": {},
   "outputs": [],
   "source": [
    "coeff = model_rigde.coef_\n",
    "coeff = np.reshape(coeff, (1,12))\n",
    "coefs = pd.DataFrame(\n",
    "    coeff,\n",
    "    columns=feature_names\n",
    ")"
   ]
  },
  {
   "cell_type": "code",
   "execution_count": 17,
   "metadata": {},
   "outputs": [],
   "source": [
    "from sklearn.model_selection import cross_validate\n",
    "from sklearn.model_selection import RepeatedKFold\n",
    "\n",
    "cv_model = cross_validate(\n",
    "    model_rigde,\n",
    "    X_train,\n",
    "    y_train,\n",
    "    cv=RepeatedKFold(n_splits=5, n_repeats=5),\n",
    "    return_estimator=True,\n",
    "    n_jobs=2,\n",
    ")\n",
    "\n",
    "\n",
    "coefs = pd.DataFrame([est.coef_ for est in cv_model[\"estimator\"]],\n",
    "   columns=feature_names,)\n"
   ]
  },
  {
   "cell_type": "code",
   "execution_count": 18,
   "metadata": {},
   "outputs": [
    {
     "data": {
      "image/png": "[encoded data removed]",
      "text/plain": [
       "<Figure size 648x504 with 1 Axes>"
      ]
     },
     "metadata": {
      "needs_background": "light"
     },
     "output_type": "display_data"
    }
   ],
   "source": [
    "plt.figure(figsize=(9, 7))\n",
    "sns.stripplot(data=coefs, orient=\"h\", color=\"k\", alpha=0.5)\n",
    "sns.boxplot(data=coefs, orient=\"h\", color=\"cyan\", saturation=0.5)\n",
    "plt.axvline(x=0, color=\".5\")\n",
    "plt.xlabel(\"Coefficient importance\")\n",
    "plt.title(\"Coefficient importance and its variability\")\n",
    "plt.subplots_adjust(left=0.3)"
   ]
  },
  {
   "cell_type": "markdown",
   "metadata": {},
   "source": [
    "Now we check the variability of the three most important coefficients as described above   (workingday, atemp, hum). The coefficient values don't change much over our CV loop for all three features, thus increasing our confidence in their importance for predicting bike rentals. In contrast the coefficients for the feature \"holiday\" vary a lot, including some that are close to zero. "
   ]
  },
  {
   "cell_type": "markdown",
   "metadata": {},
   "source": [
    "## Permutation feature importance  \n",
    "https://scikit-learn.org/stable/modules/permutation_importance.html\n",
    "\n",
    "Permutation feature importance is a model inspection technique that can be used for any fitted estimator when the data is tabular. The permutation feature importance is defined to be the decrease in a model score when a single feature value is randomly shuffled [1]. This procedure breaks the relationship between the feature and the target, thus the drop in the model score is indicative of how much the model depends on the feature.  \n",
    "Permutation importance does not reflect to the intrinsic predictive value of a feature by itself but how important this feature is for a particular model."
   ]
  },
  {
   "cell_type": "code",
   "execution_count": 21,
   "metadata": {},
   "outputs": [],
   "source": [
    "from sklearn.inspection import permutation_importance\n",
    "r = permutation_importance(model_rigde, X_train, y_train,\n",
    "                        n_repeats=30,\n",
    "                         random_state=0)\n",
    "\n"
   ]
  },
  {
   "cell_type": "code",
   "execution_count": 25,
   "metadata": {},
   "outputs": [
    {
     "data": {
      "text/plain": [
       "array([4.94106390e-01, 5.08174030e-02, 1.32516964e-02, 3.48017781e-04,\n",
       "       1.63643354e-01, 4.60574883e-02, 4.34616741e-05, 8.61177659e-03,\n",
       "       9.03607102e-02, 4.82404590e-02, 2.06812715e-02, 1.92703738e-02])"
      ]
     },
     "execution_count": 25,
     "metadata": {},
     "output_type": "execute_result"
    }
   ],
   "source": [
    "r.importances_mean"
   ]
  },
  {
   "cell_type": "code",
   "execution_count": 29,
   "metadata": {},
   "outputs": [
    {
     "data": {
      "text/html": [
       "<div>\n",
       "<style scoped>\n",
       "    .dataframe tbody tr th:only-of-type {\n",
       "        vertical-align: middle;\n",
       "    }\n",
       "\n",
       "    .dataframe tbody tr th {\n",
       "        vertical-align: top;\n",
       "    }\n",
       "\n",
       "    .dataframe thead th {\n",
       "        text-align: right;\n",
       "    }\n",
       "</style>\n",
       "<table border=\"1\" class=\"dataframe\">\n",
       "  <thead>\n",
       "    <tr style=\"text-align: right;\">\n",
       "      <th></th>\n",
       "      <th>Importance</th>\n",
       "    </tr>\n",
       "  </thead>\n",
       "  <tbody>\n",
       "    <tr>\n",
       "      <th>atemp_norm</th>\n",
       "      <td>0.494106</td>\n",
       "    </tr>\n",
       "    <tr>\n",
       "      <th>workingday</th>\n",
       "      <td>0.163643</td>\n",
       "    </tr>\n",
       "    <tr>\n",
       "      <th>season4</th>\n",
       "      <td>0.090361</td>\n",
       "    </tr>\n",
       "    <tr>\n",
       "      <th>hum_norm</th>\n",
       "      <td>0.050817</td>\n",
       "    </tr>\n",
       "    <tr>\n",
       "      <th>weathersit1</th>\n",
       "      <td>0.048240</td>\n",
       "    </tr>\n",
       "    <tr>\n",
       "      <th>season1</th>\n",
       "      <td>0.046057</td>\n",
       "    </tr>\n",
       "    <tr>\n",
       "      <th>weathersit2</th>\n",
       "      <td>0.020681</td>\n",
       "    </tr>\n",
       "    <tr>\n",
       "      <th>weathersit3</th>\n",
       "      <td>0.019270</td>\n",
       "    </tr>\n",
       "    <tr>\n",
       "      <th>windspeed_norm</th>\n",
       "      <td>0.013252</td>\n",
       "    </tr>\n",
       "    <tr>\n",
       "      <th>season3</th>\n",
       "      <td>0.008612</td>\n",
       "    </tr>\n",
       "    <tr>\n",
       "      <th>holiday</th>\n",
       "      <td>0.000348</td>\n",
       "    </tr>\n",
       "    <tr>\n",
       "      <th>season2</th>\n",
       "      <td>0.000043</td>\n",
       "    </tr>\n",
       "  </tbody>\n",
       "</table>\n",
       "</div>"
      ],
      "text/plain": [
       "                Importance\n",
       "atemp_norm        0.494106\n",
       "workingday        0.163643\n",
       "season4           0.090361\n",
       "hum_norm          0.050817\n",
       "weathersit1       0.048240\n",
       "season1           0.046057\n",
       "weathersit2       0.020681\n",
       "weathersit3       0.019270\n",
       "windspeed_norm    0.013252\n",
       "season3           0.008612\n",
       "holiday           0.000348\n",
       "season2           0.000043"
      ]
     },
     "execution_count": 29,
     "metadata": {},
     "output_type": "execute_result"
    }
   ],
   "source": [
    "feature_names = X.columns\n",
    "\n",
    "feature_importance = pd.DataFrame(\n",
    "    r.importances_mean,\n",
    "    columns=[\"Importance\"],\n",
    "    index=feature_names,\n",
    ")\n",
    "feature_importance.sort_values(\"Importance\", axis = 0, ascending = False)"
   ]
  },
  {
   "cell_type": "markdown",
   "metadata": {},
   "source": [
    "Interestingly, also for this model inspection technique the features atemp, workingday and hum are among the most important predictors. The feature season4 (autumn) is in third place. However, as mentioned earlier, there is strong multicollinearity due to one-hot coding, so the coefficients must be interpreted with caution. "
   ]
  },
  {
   "cell_type": "code",
   "execution_count": null,
   "metadata": {},
   "outputs": [],
   "source": []
  }
 ],
 "metadata": {
  "kernelspec": {
   "display_name": "Python 3",
   "language": "python",
   "name": "python3"
  },
  "language_info": {
   "codemirror_mode": {
    "name": "ipython",
    "version": 3
   },
   "file_extension": ".py",
   "mimetype": "text/x-python",
   "name": "python",
   "nbconvert_exporter": "python",
   "pygments_lexer": "ipython3",
   "version": "3.8.3"
  }
 },
 "nbformat": 4,
 "nbformat_minor": 4
}

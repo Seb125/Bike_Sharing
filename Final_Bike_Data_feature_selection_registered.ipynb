{
 "cells": [
  {
   "cell_type": "code",
   "execution_count": 1,
   "metadata": {},
   "outputs": [],
   "source": [
    "import pandas as pd\n",
    "import matplotlib.pyplot as plt\n",
    "import numpy as np\n",
    "from sklearn import linear_model\n",
    "from sklearn.preprocessing import StandardScaler\n",
    "from sklearn.model_selection import train_test_split\n",
    "from sklearn.metrics import mean_squared_error\n",
    "from math import sqrt\n",
    "import seaborn as sns\n",
    "from sklearn.metrics import mean_squared_error\n",
    "from math import sqrt"
   ]
  },
  {
   "cell_type": "code",
   "execution_count": 2,
   "metadata": {},
   "outputs": [],
   "source": [
    "df = pd.read_csv('./Bike-Sharing-Dataset/day.csv', sep=',')"
   ]
  },
  {
   "cell_type": "code",
   "execution_count": 3,
   "metadata": {},
   "outputs": [],
   "source": [
    "# rescaling normalized features to get a feel for real values. Also normalization can be later performed by Standard Scalar"
   ]
  },
  {
   "cell_type": "code",
   "execution_count": 4,
   "metadata": {},
   "outputs": [],
   "source": [
    "df['temp_org'] = df['temp']*(39-(-8)) + (-8)\n",
    "df['atemp_org'] = df['atemp']*(50-(-16)) + (-16)\n",
    "df['windspeed_org'] = df['windspeed']*100\n",
    "df['hum_org'] = df['hum']*67\n"
   ]
  },
  {
   "cell_type": "code",
   "execution_count": 5,
   "metadata": {},
   "outputs": [],
   "source": [
    "# Scale the numerical features using Standard Scaler"
   ]
  },
  {
   "cell_type": "code",
   "execution_count": 6,
   "metadata": {},
   "outputs": [],
   "source": [
    "data_num = df[['atemp_org', 'temp_org', 'hum_org', 'windspeed_org']].copy()"
   ]
  },
  {
   "cell_type": "code",
   "execution_count": 7,
   "metadata": {},
   "outputs": [],
   "source": [
    "X_num = StandardScaler().fit_transform(data_num)\n"
   ]
  },
  {
   "cell_type": "code",
   "execution_count": 8,
   "metadata": {},
   "outputs": [],
   "source": [
    "df['atemp_norm'] = X_num[:,0]\n",
    "df['temp_norm'] = X_num[:,1]\n",
    "df['hum_norm'] = X_num[:,2]\n",
    "df['windspeed_norm'] = X_num[:,3]"
   ]
  },
  {
   "cell_type": "markdown",
   "metadata": {},
   "source": [
    "Discard temp, as it is highly correlated with atemp and mnth and weekday, as these have a lot of levels"
   ]
  },
  {
   "cell_type": "code",
   "execution_count": null,
   "metadata": {},
   "outputs": [],
   "source": []
  },
  {
   "cell_type": "code",
   "execution_count": null,
   "metadata": {},
   "outputs": [],
   "source": []
  },
  {
   "cell_type": "code",
   "execution_count": 9,
   "metadata": {},
   "outputs": [],
   "source": [
    "#features = ['atemp_norm', 'temp_norm', 'hum_norm', 'windspeed_norm', 'season', 'mnth', 'holiday', 'weekday',\n",
    " #      'workingday', 'weathersit']\n",
    "features = ['atemp_norm', 'hum_norm', 'windspeed_norm', 'holiday',\n",
    "       'workingday']\n",
    "categorical_columns = ['season','weathersit']\n",
    "\n",
    "\n",
    "X = df[features]"
   ]
  },
  {
   "cell_type": "code",
   "execution_count": 10,
   "metadata": {},
   "outputs": [],
   "source": [
    "from sklearn.preprocessing import OneHotEncoder\n",
    "\n",
    "\n",
    "\n",
    "categorical_data = df[categorical_columns]"
   ]
  },
  {
   "cell_type": "code",
   "execution_count": 11,
   "metadata": {},
   "outputs": [],
   "source": [
    "# TODO: create a OneHotEncoder object, and fit it to all of X\n",
    "\n",
    "# 1. INSTANTIATE\n",
    "enc = OneHotEncoder()\n",
    "\n",
    "# 2. FIT\n",
    "enc.fit(categorical_data)\n",
    "\n",
    "# 3. Transform\n",
    "onehotlabels = enc.transform(categorical_data).toarray()\n",
    "onehotlabels.shape\n",
    "\n",
    "cat_onehot_df = pd.DataFrame(onehotlabels, columns = ['season1', 'season2', 'season3', 'season4', 'weathersit1', 'weathersit2', 'weathersit3'])\n",
    "\n",
    "# as you can see, you've the same number of rows 891\n",
    "# but now you've so many more columns due to how we changed all the categorical data into numerical data"
   ]
  },
  {
   "cell_type": "code",
   "execution_count": 12,
   "metadata": {},
   "outputs": [
    {
     "data": {
      "text/html": [
       "<div>\n",
       "<style scoped>\n",
       "    .dataframe tbody tr th:only-of-type {\n",
       "        vertical-align: middle;\n",
       "    }\n",
       "\n",
       "    .dataframe tbody tr th {\n",
       "        vertical-align: top;\n",
       "    }\n",
       "\n",
       "    .dataframe thead th {\n",
       "        text-align: right;\n",
       "    }\n",
       "</style>\n",
       "<table border=\"1\" class=\"dataframe\">\n",
       "  <thead>\n",
       "    <tr style=\"text-align: right;\">\n",
       "      <th></th>\n",
       "      <th>season1</th>\n",
       "      <th>season2</th>\n",
       "      <th>season3</th>\n",
       "      <th>season4</th>\n",
       "      <th>weathersit1</th>\n",
       "      <th>weathersit2</th>\n",
       "      <th>weathersit3</th>\n",
       "    </tr>\n",
       "  </thead>\n",
       "  <tbody>\n",
       "    <tr>\n",
       "      <th>0</th>\n",
       "      <td>1.0</td>\n",
       "      <td>0.0</td>\n",
       "      <td>0.0</td>\n",
       "      <td>0.0</td>\n",
       "      <td>0.0</td>\n",
       "      <td>1.0</td>\n",
       "      <td>0.0</td>\n",
       "    </tr>\n",
       "    <tr>\n",
       "      <th>1</th>\n",
       "      <td>1.0</td>\n",
       "      <td>0.0</td>\n",
       "      <td>0.0</td>\n",
       "      <td>0.0</td>\n",
       "      <td>0.0</td>\n",
       "      <td>1.0</td>\n",
       "      <td>0.0</td>\n",
       "    </tr>\n",
       "    <tr>\n",
       "      <th>2</th>\n",
       "      <td>1.0</td>\n",
       "      <td>0.0</td>\n",
       "      <td>0.0</td>\n",
       "      <td>0.0</td>\n",
       "      <td>1.0</td>\n",
       "      <td>0.0</td>\n",
       "      <td>0.0</td>\n",
       "    </tr>\n",
       "    <tr>\n",
       "      <th>3</th>\n",
       "      <td>1.0</td>\n",
       "      <td>0.0</td>\n",
       "      <td>0.0</td>\n",
       "      <td>0.0</td>\n",
       "      <td>1.0</td>\n",
       "      <td>0.0</td>\n",
       "      <td>0.0</td>\n",
       "    </tr>\n",
       "    <tr>\n",
       "      <th>4</th>\n",
       "      <td>1.0</td>\n",
       "      <td>0.0</td>\n",
       "      <td>0.0</td>\n",
       "      <td>0.0</td>\n",
       "      <td>1.0</td>\n",
       "      <td>0.0</td>\n",
       "      <td>0.0</td>\n",
       "    </tr>\n",
       "  </tbody>\n",
       "</table>\n",
       "</div>"
      ],
      "text/plain": [
       "   season1  season2  season3  season4  weathersit1  weathersit2  weathersit3\n",
       "0      1.0      0.0      0.0      0.0          0.0          1.0          0.0\n",
       "1      1.0      0.0      0.0      0.0          0.0          1.0          0.0\n",
       "2      1.0      0.0      0.0      0.0          1.0          0.0          0.0\n",
       "3      1.0      0.0      0.0      0.0          1.0          0.0          0.0\n",
       "4      1.0      0.0      0.0      0.0          1.0          0.0          0.0"
      ]
     },
     "execution_count": 12,
     "metadata": {},
     "output_type": "execute_result"
    }
   ],
   "source": [
    "cat_onehot_df.head()"
   ]
  },
  {
   "cell_type": "code",
   "execution_count": 13,
   "metadata": {},
   "outputs": [
    {
     "data": {
      "text/html": [
       "<div>\n",
       "<style scoped>\n",
       "    .dataframe tbody tr th:only-of-type {\n",
       "        vertical-align: middle;\n",
       "    }\n",
       "\n",
       "    .dataframe tbody tr th {\n",
       "        vertical-align: top;\n",
       "    }\n",
       "\n",
       "    .dataframe thead th {\n",
       "        text-align: right;\n",
       "    }\n",
       "</style>\n",
       "<table border=\"1\" class=\"dataframe\">\n",
       "  <thead>\n",
       "    <tr style=\"text-align: right;\">\n",
       "      <th></th>\n",
       "      <th>atemp_norm</th>\n",
       "      <th>hum_norm</th>\n",
       "      <th>windspeed_norm</th>\n",
       "      <th>holiday</th>\n",
       "      <th>workingday</th>\n",
       "      <th>season1</th>\n",
       "      <th>season2</th>\n",
       "      <th>season3</th>\n",
       "      <th>season4</th>\n",
       "      <th>weathersit1</th>\n",
       "      <th>weathersit2</th>\n",
       "      <th>weathersit3</th>\n",
       "    </tr>\n",
       "  </thead>\n",
       "  <tbody>\n",
       "    <tr>\n",
       "      <th>0</th>\n",
       "      <td>-0.679946</td>\n",
       "      <td>1.250171</td>\n",
       "      <td>-0.387892</td>\n",
       "      <td>0</td>\n",
       "      <td>0</td>\n",
       "      <td>1.0</td>\n",
       "      <td>0.0</td>\n",
       "      <td>0.0</td>\n",
       "      <td>0.0</td>\n",
       "      <td>0.0</td>\n",
       "      <td>1.0</td>\n",
       "      <td>0.0</td>\n",
       "    </tr>\n",
       "    <tr>\n",
       "      <th>1</th>\n",
       "      <td>-0.740652</td>\n",
       "      <td>0.479113</td>\n",
       "      <td>0.749602</td>\n",
       "      <td>0</td>\n",
       "      <td>0</td>\n",
       "      <td>1.0</td>\n",
       "      <td>0.0</td>\n",
       "      <td>0.0</td>\n",
       "      <td>0.0</td>\n",
       "      <td>0.0</td>\n",
       "      <td>1.0</td>\n",
       "      <td>0.0</td>\n",
       "    </tr>\n",
       "    <tr>\n",
       "      <th>2</th>\n",
       "      <td>-1.749767</td>\n",
       "      <td>-1.339274</td>\n",
       "      <td>0.746632</td>\n",
       "      <td>0</td>\n",
       "      <td>1</td>\n",
       "      <td>1.0</td>\n",
       "      <td>0.0</td>\n",
       "      <td>0.0</td>\n",
       "      <td>0.0</td>\n",
       "      <td>1.0</td>\n",
       "      <td>0.0</td>\n",
       "      <td>0.0</td>\n",
       "    </tr>\n",
       "    <tr>\n",
       "      <th>3</th>\n",
       "      <td>-1.610270</td>\n",
       "      <td>-0.263182</td>\n",
       "      <td>-0.389829</td>\n",
       "      <td>0</td>\n",
       "      <td>1</td>\n",
       "      <td>1.0</td>\n",
       "      <td>0.0</td>\n",
       "      <td>0.0</td>\n",
       "      <td>0.0</td>\n",
       "      <td>1.0</td>\n",
       "      <td>0.0</td>\n",
       "      <td>0.0</td>\n",
       "    </tr>\n",
       "    <tr>\n",
       "      <th>4</th>\n",
       "      <td>-1.504971</td>\n",
       "      <td>-1.341494</td>\n",
       "      <td>-0.046307</td>\n",
       "      <td>0</td>\n",
       "      <td>1</td>\n",
       "      <td>1.0</td>\n",
       "      <td>0.0</td>\n",
       "      <td>0.0</td>\n",
       "      <td>0.0</td>\n",
       "      <td>1.0</td>\n",
       "      <td>0.0</td>\n",
       "      <td>0.0</td>\n",
       "    </tr>\n",
       "  </tbody>\n",
       "</table>\n",
       "</div>"
      ],
      "text/plain": [
       "   atemp_norm  hum_norm  windspeed_norm  holiday  workingday  season1  \\\n",
       "0   -0.679946  1.250171       -0.387892        0           0      1.0   \n",
       "1   -0.740652  0.479113        0.749602        0           0      1.0   \n",
       "2   -1.749767 -1.339274        0.746632        0           1      1.0   \n",
       "3   -1.610270 -0.263182       -0.389829        0           1      1.0   \n",
       "4   -1.504971 -1.341494       -0.046307        0           1      1.0   \n",
       "\n",
       "   season2  season3  season4  weathersit1  weathersit2  weathersit3  \n",
       "0      0.0      0.0      0.0          0.0          1.0          0.0  \n",
       "1      0.0      0.0      0.0          0.0          1.0          0.0  \n",
       "2      0.0      0.0      0.0          1.0          0.0          0.0  \n",
       "3      0.0      0.0      0.0          1.0          0.0          0.0  \n",
       "4      0.0      0.0      0.0          1.0          0.0          0.0  "
      ]
     },
     "execution_count": 13,
     "metadata": {},
     "output_type": "execute_result"
    }
   ],
   "source": [
    "X = pd.concat([X,cat_onehot_df], axis = 1, join = 'inner')\n",
    "X.head()"
   ]
  },
  {
   "cell_type": "code",
   "execution_count": 14,
   "metadata": {},
   "outputs": [],
   "source": [
    "y = df['registered']"
   ]
  },
  {
   "cell_type": "code",
   "execution_count": 15,
   "metadata": {},
   "outputs": [],
   "source": [
    "X_train, X_test, y_train, y_test = train_test_split(X, y, random_state=42)"
   ]
  },
  {
   "cell_type": "code",
   "execution_count": 16,
   "metadata": {},
   "outputs": [
    {
     "data": {
      "text/html": [
       "<div>\n",
       "<style scoped>\n",
       "    .dataframe tbody tr th:only-of-type {\n",
       "        vertical-align: middle;\n",
       "    }\n",
       "\n",
       "    .dataframe tbody tr th {\n",
       "        vertical-align: top;\n",
       "    }\n",
       "\n",
       "    .dataframe thead th {\n",
       "        text-align: right;\n",
       "    }\n",
       "</style>\n",
       "<table border=\"1\" class=\"dataframe\">\n",
       "  <thead>\n",
       "    <tr style=\"text-align: right;\">\n",
       "      <th></th>\n",
       "      <th>atemp_norm</th>\n",
       "      <th>hum_norm</th>\n",
       "      <th>windspeed_norm</th>\n",
       "      <th>holiday</th>\n",
       "      <th>workingday</th>\n",
       "      <th>season1</th>\n",
       "      <th>season2</th>\n",
       "      <th>season3</th>\n",
       "      <th>season4</th>\n",
       "      <th>weathersit1</th>\n",
       "      <th>weathersit2</th>\n",
       "      <th>weathersit3</th>\n",
       "    </tr>\n",
       "  </thead>\n",
       "  <tbody>\n",
       "    <tr>\n",
       "      <th>688</th>\n",
       "      <td>-0.606283</td>\n",
       "      <td>-0.032045</td>\n",
       "      <td>0.575646</td>\n",
       "      <td>0</td>\n",
       "      <td>1</td>\n",
       "      <td>0.0</td>\n",
       "      <td>0.0</td>\n",
       "      <td>0.0</td>\n",
       "      <td>1.0</td>\n",
       "      <td>0.0</td>\n",
       "      <td>1.0</td>\n",
       "      <td>0.0</td>\n",
       "    </tr>\n",
       "    <tr>\n",
       "      <th>649</th>\n",
       "      <td>-0.265195</td>\n",
       "      <td>-1.156180</td>\n",
       "      <td>-0.114794</td>\n",
       "      <td>0</td>\n",
       "      <td>1</td>\n",
       "      <td>0.0</td>\n",
       "      <td>0.0</td>\n",
       "      <td>0.0</td>\n",
       "      <td>1.0</td>\n",
       "      <td>1.0</td>\n",
       "      <td>0.0</td>\n",
       "      <td>0.0</td>\n",
       "    </tr>\n",
       "    <tr>\n",
       "      <th>637</th>\n",
       "      <td>0.343519</td>\n",
       "      <td>-0.597036</td>\n",
       "      <td>0.479280</td>\n",
       "      <td>0</td>\n",
       "      <td>0</td>\n",
       "      <td>0.0</td>\n",
       "      <td>0.0</td>\n",
       "      <td>0.0</td>\n",
       "      <td>1.0</td>\n",
       "      <td>1.0</td>\n",
       "      <td>0.0</td>\n",
       "      <td>0.0</td>\n",
       "    </tr>\n",
       "    <tr>\n",
       "      <th>525</th>\n",
       "      <td>1.068550</td>\n",
       "      <td>-1.340609</td>\n",
       "      <td>-0.596543</td>\n",
       "      <td>0</td>\n",
       "      <td>0</td>\n",
       "      <td>0.0</td>\n",
       "      <td>1.0</td>\n",
       "      <td>0.0</td>\n",
       "      <td>0.0</td>\n",
       "      <td>1.0</td>\n",
       "      <td>0.0</td>\n",
       "      <td>0.0</td>\n",
       "    </tr>\n",
       "    <tr>\n",
       "      <th>367</th>\n",
       "      <td>-2.137425</td>\n",
       "      <td>-1.311332</td>\n",
       "      <td>2.262059</td>\n",
       "      <td>0</td>\n",
       "      <td>1</td>\n",
       "      <td>1.0</td>\n",
       "      <td>0.0</td>\n",
       "      <td>0.0</td>\n",
       "      <td>0.0</td>\n",
       "      <td>1.0</td>\n",
       "      <td>0.0</td>\n",
       "      <td>0.0</td>\n",
       "    </tr>\n",
       "    <tr>\n",
       "      <th>...</th>\n",
       "      <td>...</td>\n",
       "      <td>...</td>\n",
       "      <td>...</td>\n",
       "      <td>...</td>\n",
       "      <td>...</td>\n",
       "      <td>...</td>\n",
       "      <td>...</td>\n",
       "      <td>...</td>\n",
       "      <td>...</td>\n",
       "      <td>...</td>\n",
       "      <td>...</td>\n",
       "      <td>...</td>\n",
       "    </tr>\n",
       "    <tr>\n",
       "      <th>71</th>\n",
       "      <td>-0.578834</td>\n",
       "      <td>-0.706119</td>\n",
       "      <td>1.034514</td>\n",
       "      <td>0</td>\n",
       "      <td>0</td>\n",
       "      <td>1.0</td>\n",
       "      <td>0.0</td>\n",
       "      <td>0.0</td>\n",
       "      <td>0.0</td>\n",
       "      <td>1.0</td>\n",
       "      <td>0.0</td>\n",
       "      <td>0.0</td>\n",
       "    </tr>\n",
       "    <tr>\n",
       "      <th>106</th>\n",
       "      <td>-0.175978</td>\n",
       "      <td>-1.042010</td>\n",
       "      <td>1.459229</td>\n",
       "      <td>0</td>\n",
       "      <td>0</td>\n",
       "      <td>0.0</td>\n",
       "      <td>1.0</td>\n",
       "      <td>0.0</td>\n",
       "      <td>0.0</td>\n",
       "      <td>1.0</td>\n",
       "      <td>0.0</td>\n",
       "      <td>0.0</td>\n",
       "    </tr>\n",
       "    <tr>\n",
       "      <th>270</th>\n",
       "      <td>0.619000</td>\n",
       "      <td>1.551700</td>\n",
       "      <td>-0.540478</td>\n",
       "      <td>0</td>\n",
       "      <td>1</td>\n",
       "      <td>0.0</td>\n",
       "      <td>0.0</td>\n",
       "      <td>0.0</td>\n",
       "      <td>1.0</td>\n",
       "      <td>0.0</td>\n",
       "      <td>1.0</td>\n",
       "      <td>0.0</td>\n",
       "    </tr>\n",
       "    <tr>\n",
       "      <th>435</th>\n",
       "      <td>-0.704232</td>\n",
       "      <td>-1.060460</td>\n",
       "      <td>0.414499</td>\n",
       "      <td>0</td>\n",
       "      <td>0</td>\n",
       "      <td>1.0</td>\n",
       "      <td>0.0</td>\n",
       "      <td>0.0</td>\n",
       "      <td>0.0</td>\n",
       "      <td>1.0</td>\n",
       "      <td>0.0</td>\n",
       "      <td>0.0</td>\n",
       "    </tr>\n",
       "    <tr>\n",
       "      <th>102</th>\n",
       "      <td>-0.350452</td>\n",
       "      <td>1.343854</td>\n",
       "      <td>0.776434</td>\n",
       "      <td>0</td>\n",
       "      <td>1</td>\n",
       "      <td>0.0</td>\n",
       "      <td>1.0</td>\n",
       "      <td>0.0</td>\n",
       "      <td>0.0</td>\n",
       "      <td>0.0</td>\n",
       "      <td>1.0</td>\n",
       "      <td>0.0</td>\n",
       "    </tr>\n",
       "  </tbody>\n",
       "</table>\n",
       "<p>548 rows × 12 columns</p>\n",
       "</div>"
      ],
      "text/plain": [
       "     atemp_norm  hum_norm  windspeed_norm  holiday  workingday  season1  \\\n",
       "688   -0.606283 -0.032045        0.575646        0           1      0.0   \n",
       "649   -0.265195 -1.156180       -0.114794        0           1      0.0   \n",
       "637    0.343519 -0.597036        0.479280        0           0      0.0   \n",
       "525    1.068550 -1.340609       -0.596543        0           0      0.0   \n",
       "367   -2.137425 -1.311332        2.262059        0           1      1.0   \n",
       "..          ...       ...             ...      ...         ...      ...   \n",
       "71    -0.578834 -0.706119        1.034514        0           0      1.0   \n",
       "106   -0.175978 -1.042010        1.459229        0           0      0.0   \n",
       "270    0.619000  1.551700       -0.540478        0           1      0.0   \n",
       "435   -0.704232 -1.060460        0.414499        0           0      1.0   \n",
       "102   -0.350452  1.343854        0.776434        0           1      0.0   \n",
       "\n",
       "     season2  season3  season4  weathersit1  weathersit2  weathersit3  \n",
       "688      0.0      0.0      1.0          0.0          1.0          0.0  \n",
       "649      0.0      0.0      1.0          1.0          0.0          0.0  \n",
       "637      0.0      0.0      1.0          1.0          0.0          0.0  \n",
       "525      1.0      0.0      0.0          1.0          0.0          0.0  \n",
       "367      0.0      0.0      0.0          1.0          0.0          0.0  \n",
       "..       ...      ...      ...          ...          ...          ...  \n",
       "71       0.0      0.0      0.0          1.0          0.0          0.0  \n",
       "106      1.0      0.0      0.0          1.0          0.0          0.0  \n",
       "270      0.0      0.0      1.0          0.0          1.0          0.0  \n",
       "435      0.0      0.0      0.0          1.0          0.0          0.0  \n",
       "102      1.0      0.0      0.0          0.0          1.0          0.0  \n",
       "\n",
       "[548 rows x 12 columns]"
      ]
     },
     "execution_count": 16,
     "metadata": {},
     "output_type": "execute_result"
    }
   ],
   "source": [
    "X_train"
   ]
  },
  {
   "cell_type": "code",
   "execution_count": 17,
   "metadata": {},
   "outputs": [
    {
     "name": "stdout",
     "output_type": "stream",
     "text": [
      "<class 'pandas.core.frame.DataFrame'>\n",
      "RangeIndex: 731 entries, 0 to 730\n",
      "Data columns (total 24 columns):\n",
      " #   Column          Non-Null Count  Dtype  \n",
      "---  ------          --------------  -----  \n",
      " 0   instant         731 non-null    int64  \n",
      " 1   dteday          731 non-null    object \n",
      " 2   season          731 non-null    int64  \n",
      " 3   yr              731 non-null    int64  \n",
      " 4   mnth            731 non-null    int64  \n",
      " 5   holiday         731 non-null    int64  \n",
      " 6   weekday         731 non-null    int64  \n",
      " 7   workingday      731 non-null    int64  \n",
      " 8   weathersit      731 non-null    int64  \n",
      " 9   temp            731 non-null    float64\n",
      " 10  atemp           731 non-null    float64\n",
      " 11  hum             731 non-null    float64\n",
      " 12  windspeed       731 non-null    float64\n",
      " 13  casual          731 non-null    int64  \n",
      " 14  registered      731 non-null    int64  \n",
      " 15  cnt             731 non-null    int64  \n",
      " 16  temp_org        731 non-null    float64\n",
      " 17  atemp_org       731 non-null    float64\n",
      " 18  windspeed_org   731 non-null    float64\n",
      " 19  hum_org         731 non-null    float64\n",
      " 20  atemp_norm      731 non-null    float64\n",
      " 21  temp_norm       731 non-null    float64\n",
      " 22  hum_norm        731 non-null    float64\n",
      " 23  windspeed_norm  731 non-null    float64\n",
      "dtypes: float64(12), int64(11), object(1)\n",
      "memory usage: 137.2+ KB\n"
     ]
    }
   ],
   "source": [
    "df.info()"
   ]
  },
  {
   "cell_type": "code",
   "execution_count": 18,
   "metadata": {},
   "outputs": [
    {
     "data": {
      "text/plain": [
       "Ridge(alpha=1e-10)"
      ]
     },
     "execution_count": 18,
     "metadata": {},
     "output_type": "execute_result"
    }
   ],
   "source": [
    "from sklearn.pipeline import make_pipeline\n",
    "from sklearn.linear_model import Ridge\n",
    "from sklearn.compose import TransformedTargetRegressor\n",
    "\n",
    "a = 1e-10\n",
    "\n",
    "model = linear_model.Ridge(alpha=a, fit_intercept=True)\n",
    "model.fit(X_train, y_train)\n",
    "\n",
    "\n"
   ]
  },
  {
   "cell_type": "markdown",
   "metadata": {},
   "source": [
    "Then we check the performance of the computed model plotting its predictions\n",
    "on the test set and computing,\n",
    "for example, the median absolute error of the model.\n",
    "\n"
   ]
  },
  {
   "cell_type": "code",
   "execution_count": 19,
   "metadata": {},
   "outputs": [
    {
     "data": {
      "image/png": "[encoded data removed]",
      "text/plain": [
       "<Figure size 360x360 with 1 Axes>"
      ]
     },
     "metadata": {
      "needs_background": "light"
     },
     "output_type": "display_data"
    }
   ],
   "source": [
    "from sklearn.metrics import median_absolute_error\n",
    "y_pred = model.predict(X_train)\n",
    "\n",
    "mae = sqrt(mean_squared_error(y_true = y_train, y_pred = y_pred))\n",
    "string_score = f\"RMSE on training set: {mae:.2f} count\"\n",
    "y_pred = model.predict(X_test)\n",
    "mae = sqrt(mean_squared_error(y_true = y_test, y_pred = y_pred))\n",
    "string_score += f\"\\nRMSE on testing set: {mae:.2f} count\"\n",
    "fig, ax = plt.subplots(figsize=(5, 5))\n",
    "plt.scatter(y_test, y_pred)\n",
    "ax.plot([0, 1], [0, 1], transform=ax.transAxes, ls=\"--\", c=\"red\")\n",
    "plt.text(3, 20, string_score)\n",
    "plt.title(\"Ridge model, small regularization\")\n",
    "plt.ylabel(\"Model predictions\")\n",
    "plt.xlabel(\"Truths\")\n",
    "plt.xlim([0, 8000])\n",
    "_ = plt.ylim([0, 8000])"
   ]
  },
  {
   "cell_type": "markdown",
   "metadata": {},
   "source": [
    "## Interpreting coefficients: scale matters\n",
    "\n",
    "First of all, we can take a look to the values of the coefficients of the\n",
    "regressor we have fitted."
   ]
  },
  {
   "cell_type": "code",
   "execution_count": 20,
   "metadata": {},
   "outputs": [
    {
     "data": {
      "text/plain": [
       "Index(['atemp_norm', 'hum_norm', 'windspeed_norm', 'holiday', 'workingday',\n",
       "       'season1', 'season2', 'season3', 'season4', 'weathersit1',\n",
       "       'weathersit2', 'weathersit3'],\n",
       "      dtype='object')"
      ]
     },
     "execution_count": 20,
     "metadata": {},
     "output_type": "execute_result"
    }
   ],
   "source": [
    "X.columns"
   ]
  },
  {
   "cell_type": "code",
   "execution_count": 21,
   "metadata": {},
   "outputs": [
    {
     "data": {
      "text/html": [
       "<div>\n",
       "<style scoped>\n",
       "    .dataframe tbody tr th:only-of-type {\n",
       "        vertical-align: middle;\n",
       "    }\n",
       "\n",
       "    .dataframe tbody tr th {\n",
       "        vertical-align: top;\n",
       "    }\n",
       "\n",
       "    .dataframe thead th {\n",
       "        text-align: right;\n",
       "    }\n",
       "</style>\n",
       "<table border=\"1\" class=\"dataframe\">\n",
       "  <thead>\n",
       "    <tr style=\"text-align: right;\">\n",
       "      <th></th>\n",
       "      <th>Coefficients</th>\n",
       "    </tr>\n",
       "  </thead>\n",
       "  <tbody>\n",
       "    <tr>\n",
       "      <th>atemp_norm</th>\n",
       "      <td>769.414409</td>\n",
       "    </tr>\n",
       "    <tr>\n",
       "      <th>hum_norm</th>\n",
       "      <td>-244.449946</td>\n",
       "    </tr>\n",
       "    <tr>\n",
       "      <th>windspeed_norm</th>\n",
       "      <td>-125.986116</td>\n",
       "    </tr>\n",
       "    <tr>\n",
       "      <th>holiday</th>\n",
       "      <td>-180.778960</td>\n",
       "    </tr>\n",
       "    <tr>\n",
       "      <th>workingday</th>\n",
       "      <td>929.657698</td>\n",
       "    </tr>\n",
       "    <tr>\n",
       "      <th>season1</th>\n",
       "      <td>-545.339165</td>\n",
       "    </tr>\n",
       "    <tr>\n",
       "      <th>season2</th>\n",
       "      <td>21.322469</td>\n",
       "    </tr>\n",
       "    <tr>\n",
       "      <th>season3</th>\n",
       "      <td>-234.489930</td>\n",
       "    </tr>\n",
       "    <tr>\n",
       "      <th>season4</th>\n",
       "      <td>755.075098</td>\n",
       "    </tr>\n",
       "    <tr>\n",
       "      <th>weathersit1</th>\n",
       "      <td>508.758823</td>\n",
       "    </tr>\n",
       "    <tr>\n",
       "      <th>weathersit2</th>\n",
       "      <td>345.776015</td>\n",
       "    </tr>\n",
       "    <tr>\n",
       "      <th>weathersit3</th>\n",
       "      <td>-855.665179</td>\n",
       "    </tr>\n",
       "  </tbody>\n",
       "</table>\n",
       "</div>"
      ],
      "text/plain": [
       "                Coefficients\n",
       "atemp_norm        769.414409\n",
       "hum_norm         -244.449946\n",
       "windspeed_norm   -125.986116\n",
       "holiday          -180.778960\n",
       "workingday        929.657698\n",
       "season1          -545.339165\n",
       "season2            21.322469\n",
       "season3          -234.489930\n",
       "season4           755.075098\n",
       "weathersit1       508.758823\n",
       "weathersit2       345.776015\n",
       "weathersit3      -855.665179"
      ]
     },
     "execution_count": 21,
     "metadata": {},
     "output_type": "execute_result"
    }
   ],
   "source": [
    "feature_names = X.columns\n",
    "\n",
    "coefs = pd.DataFrame(\n",
    "    model.coef_,\n",
    "    columns=[\"Coefficients\"],\n",
    "    index=feature_names,\n",
    ")\n",
    "\n",
    "coefs"
   ]
  },
  {
   "cell_type": "code",
   "execution_count": 22,
   "metadata": {},
   "outputs": [
    {
     "data": {
      "image/png": "[encoded data removed]",
      "text/plain": [
       "<Figure size 648x504 with 1 Axes>"
      ]
     },
     "metadata": {
      "needs_background": "light"
     },
     "output_type": "display_data"
    }
   ],
   "source": [
    "coefs.plot(kind=\"barh\", figsize=(9, 7))\n",
    "plt.title(\"Ridge model, small regularization\")\n",
    "plt.axvline(x=0, color=\".5\")\n",
    "plt.subplots_adjust(left=0.3)"
   ]
  },
  {
   "cell_type": "markdown",
   "metadata": {},
   "source": [
    "How do you interpret the season coefficient? With an increase in season the number of bike rentals increases by a constant amount? Check, how such cateroical variables can be integrated in a regression in a meaningful way!!"
   ]
  },
  {
   "cell_type": "markdown",
   "metadata": {},
   "source": [
    "## Checking the variability of the coefficients\n",
    "\n",
    "We can check the coefficient variability through cross-validation:\n",
    "it is a form of data perturbation (related to\n",
    "`resampling <https://en.wikipedia.org/wiki/Resampling_(statistics)>`_).\n",
    "\n",
    "If coefficients vary significantly when changing the input dataset\n",
    "their robustness is not guaranteed, and they should probably be interpreted\n",
    "with caution."
   ]
  },
  {
   "cell_type": "code",
   "execution_count": 23,
   "metadata": {},
   "outputs": [],
   "source": [
    "coeff = model.coef_"
   ]
  },
  {
   "cell_type": "code",
   "execution_count": 24,
   "metadata": {},
   "outputs": [],
   "source": [
    "coeff = np.reshape(coeff, (1,12))"
   ]
  },
  {
   "cell_type": "code",
   "execution_count": 25,
   "metadata": {},
   "outputs": [
    {
     "data": {
      "text/plain": [
       "(1, 12)"
      ]
     },
     "execution_count": 25,
     "metadata": {},
     "output_type": "execute_result"
    }
   ],
   "source": [
    "coeff.shape"
   ]
  },
  {
   "cell_type": "code",
   "execution_count": 26,
   "metadata": {},
   "outputs": [],
   "source": [
    "coefs = pd.DataFrame(\n",
    "    coeff,\n",
    "    columns=feature_names\n",
    ")"
   ]
  },
  {
   "cell_type": "code",
   "execution_count": 27,
   "metadata": {},
   "outputs": [],
   "source": [
    "from sklearn.model_selection import cross_validate\n",
    "from sklearn.model_selection import RepeatedKFold\n",
    "\n",
    "cv_model = cross_validate(\n",
    "    model,\n",
    "    X,\n",
    "    y,\n",
    "    cv=RepeatedKFold(n_splits=5, n_repeats=5),\n",
    "    return_estimator=True,\n",
    "    n_jobs=2,\n",
    ")\n",
    "\n",
    "\n",
    "coefs = pd.DataFrame([est.coef_ for est in cv_model[\"estimator\"]],\n",
    "   columns=feature_names,)\n"
   ]
  },
  {
   "cell_type": "code",
   "execution_count": 28,
   "metadata": {},
   "outputs": [
    {
     "data": {
      "image/png": "[encoded data removed]",
      "text/plain": [
       "<Figure size 648x504 with 1 Axes>"
      ]
     },
     "metadata": {
      "needs_background": "light"
     },
     "output_type": "display_data"
    }
   ],
   "source": [
    "plt.figure(figsize=(9, 7))\n",
    "sns.stripplot(data=coefs, orient=\"h\", color=\"k\", alpha=0.5)\n",
    "sns.boxplot(data=coefs, orient=\"h\", color=\"cyan\", saturation=0.5)\n",
    "plt.axvline(x=0, color=\".5\")\n",
    "plt.xlabel(\"Coefficient importance\")\n",
    "plt.title(\"Coefficient importance and its variability\")\n",
    "plt.subplots_adjust(left=0.3)"
   ]
  },
  {
   "cell_type": "markdown",
   "metadata": {},
   "source": [
    "## Linear models with regularization\n",
    "\n",
    "In machine-learning practice, Ridge Regression is more often used with\n",
    "non-negligible regularization.\n",
    "\n",
    "Above, we limited this regularization to a very little amount.\n",
    "Regularization improves the conditioning of the problem and reduces the\n",
    "variance of the estimates. RidgeCV applies cross validation in order to\n",
    "determine which value of the regularization parameter (`alpha`) is best\n",
    "suited for prediction."
   ]
  },
  {
   "cell_type": "code",
   "execution_count": 29,
   "metadata": {},
   "outputs": [
    {
     "data": {
      "text/html": [
       "<div>\n",
       "<style scoped>\n",
       "    .dataframe tbody tr th:only-of-type {\n",
       "        vertical-align: middle;\n",
       "    }\n",
       "\n",
       "    .dataframe tbody tr th {\n",
       "        vertical-align: top;\n",
       "    }\n",
       "\n",
       "    .dataframe thead th {\n",
       "        text-align: right;\n",
       "    }\n",
       "</style>\n",
       "<table border=\"1\" class=\"dataframe\">\n",
       "  <thead>\n",
       "    <tr style=\"text-align: right;\">\n",
       "      <th></th>\n",
       "      <th>atemp_norm</th>\n",
       "      <th>hum_norm</th>\n",
       "      <th>windspeed_norm</th>\n",
       "      <th>holiday</th>\n",
       "      <th>workingday</th>\n",
       "      <th>season1</th>\n",
       "      <th>season2</th>\n",
       "      <th>season3</th>\n",
       "      <th>season4</th>\n",
       "      <th>weathersit1</th>\n",
       "      <th>weathersit2</th>\n",
       "      <th>weathersit3</th>\n",
       "    </tr>\n",
       "  </thead>\n",
       "  <tbody>\n",
       "    <tr>\n",
       "      <th>703</th>\n",
       "      <td>-0.032545</td>\n",
       "      <td>0.743727</td>\n",
       "      <td>-0.211211</td>\n",
       "      <td>0</td>\n",
       "      <td>1</td>\n",
       "      <td>0.0</td>\n",
       "      <td>0.0</td>\n",
       "      <td>0.0</td>\n",
       "      <td>1.0</td>\n",
       "      <td>1.0</td>\n",
       "      <td>0.0</td>\n",
       "      <td>0.0</td>\n",
       "    </tr>\n",
       "    <tr>\n",
       "      <th>33</th>\n",
       "      <td>-1.820550</td>\n",
       "      <td>-1.335389</td>\n",
       "      <td>1.126812</td>\n",
       "      <td>0</td>\n",
       "      <td>1</td>\n",
       "      <td>1.0</td>\n",
       "      <td>0.0</td>\n",
       "      <td>0.0</td>\n",
       "      <td>0.0</td>\n",
       "      <td>1.0</td>\n",
       "      <td>0.0</td>\n",
       "      <td>0.0</td>\n",
       "    </tr>\n",
       "    <tr>\n",
       "      <th>300</th>\n",
       "      <td>-0.955126</td>\n",
       "      <td>-0.295514</td>\n",
       "      <td>0.503491</td>\n",
       "      <td>0</td>\n",
       "      <td>1</td>\n",
       "      <td>0.0</td>\n",
       "      <td>0.0</td>\n",
       "      <td>0.0</td>\n",
       "      <td>1.0</td>\n",
       "      <td>0.0</td>\n",
       "      <td>1.0</td>\n",
       "      <td>0.0</td>\n",
       "    </tr>\n",
       "    <tr>\n",
       "      <th>456</th>\n",
       "      <td>-0.350427</td>\n",
       "      <td>0.339741</td>\n",
       "      <td>-0.235254</td>\n",
       "      <td>0</td>\n",
       "      <td>0</td>\n",
       "      <td>0.0</td>\n",
       "      <td>1.0</td>\n",
       "      <td>0.0</td>\n",
       "      <td>0.0</td>\n",
       "      <td>0.0</td>\n",
       "      <td>1.0</td>\n",
       "      <td>0.0</td>\n",
       "    </tr>\n",
       "    <tr>\n",
       "      <th>633</th>\n",
       "      <td>0.428770</td>\n",
       "      <td>-0.406755</td>\n",
       "      <td>0.591838</td>\n",
       "      <td>0</td>\n",
       "      <td>1</td>\n",
       "      <td>0.0</td>\n",
       "      <td>0.0</td>\n",
       "      <td>0.0</td>\n",
       "      <td>1.0</td>\n",
       "      <td>1.0</td>\n",
       "      <td>0.0</td>\n",
       "      <td>0.0</td>\n",
       "    </tr>\n",
       "    <tr>\n",
       "      <th>...</th>\n",
       "      <td>...</td>\n",
       "      <td>...</td>\n",
       "      <td>...</td>\n",
       "      <td>...</td>\n",
       "      <td>...</td>\n",
       "      <td>...</td>\n",
       "      <td>...</td>\n",
       "      <td>...</td>\n",
       "      <td>...</td>\n",
       "      <td>...</td>\n",
       "      <td>...</td>\n",
       "      <td>...</td>\n",
       "    </tr>\n",
       "    <tr>\n",
       "      <th>110</th>\n",
       "      <td>-0.125650</td>\n",
       "      <td>-1.551384</td>\n",
       "      <td>1.740229</td>\n",
       "      <td>0</td>\n",
       "      <td>1</td>\n",
       "      <td>0.0</td>\n",
       "      <td>1.0</td>\n",
       "      <td>0.0</td>\n",
       "      <td>0.0</td>\n",
       "      <td>1.0</td>\n",
       "      <td>0.0</td>\n",
       "      <td>0.0</td>\n",
       "    </tr>\n",
       "    <tr>\n",
       "      <th>82</th>\n",
       "      <td>-1.249748</td>\n",
       "      <td>1.250171</td>\n",
       "      <td>0.688242</td>\n",
       "      <td>0</td>\n",
       "      <td>1</td>\n",
       "      <td>0.0</td>\n",
       "      <td>1.0</td>\n",
       "      <td>0.0</td>\n",
       "      <td>0.0</td>\n",
       "      <td>0.0</td>\n",
       "      <td>1.0</td>\n",
       "      <td>0.0</td>\n",
       "    </tr>\n",
       "    <tr>\n",
       "      <th>51</th>\n",
       "      <td>-1.168433</td>\n",
       "      <td>-0.160850</td>\n",
       "      <td>1.515398</td>\n",
       "      <td>1</td>\n",
       "      <td>0</td>\n",
       "      <td>1.0</td>\n",
       "      <td>0.0</td>\n",
       "      <td>0.0</td>\n",
       "      <td>0.0</td>\n",
       "      <td>0.0</td>\n",
       "      <td>1.0</td>\n",
       "      <td>0.0</td>\n",
       "    </tr>\n",
       "    <tr>\n",
       "      <th>522</th>\n",
       "      <td>0.417182</td>\n",
       "      <td>-0.116939</td>\n",
       "      <td>-1.463767</td>\n",
       "      <td>0</td>\n",
       "      <td>1</td>\n",
       "      <td>0.0</td>\n",
       "      <td>1.0</td>\n",
       "      <td>0.0</td>\n",
       "      <td>0.0</td>\n",
       "      <td>1.0</td>\n",
       "      <td>0.0</td>\n",
       "      <td>0.0</td>\n",
       "    </tr>\n",
       "    <tr>\n",
       "      <th>585</th>\n",
       "      <td>1.432996</td>\n",
       "      <td>0.316324</td>\n",
       "      <td>-1.030233</td>\n",
       "      <td>0</td>\n",
       "      <td>1</td>\n",
       "      <td>0.0</td>\n",
       "      <td>0.0</td>\n",
       "      <td>1.0</td>\n",
       "      <td>0.0</td>\n",
       "      <td>0.0</td>\n",
       "      <td>1.0</td>\n",
       "      <td>0.0</td>\n",
       "    </tr>\n",
       "  </tbody>\n",
       "</table>\n",
       "<p>183 rows × 12 columns</p>\n",
       "</div>"
      ],
      "text/plain": [
       "     atemp_norm  hum_norm  windspeed_norm  holiday  workingday  season1  \\\n",
       "703   -0.032545  0.743727       -0.211211        0           1      0.0   \n",
       "33    -1.820550 -1.335389        1.126812        0           1      1.0   \n",
       "300   -0.955126 -0.295514        0.503491        0           1      0.0   \n",
       "456   -0.350427  0.339741       -0.235254        0           0      0.0   \n",
       "633    0.428770 -0.406755        0.591838        0           1      0.0   \n",
       "..          ...       ...             ...      ...         ...      ...   \n",
       "110   -0.125650 -1.551384        1.740229        0           1      0.0   \n",
       "82    -1.249748  1.250171        0.688242        0           1      0.0   \n",
       "51    -1.168433 -0.160850        1.515398        1           0      1.0   \n",
       "522    0.417182 -0.116939       -1.463767        0           1      0.0   \n",
       "585    1.432996  0.316324       -1.030233        0           1      0.0   \n",
       "\n",
       "     season2  season3  season4  weathersit1  weathersit2  weathersit3  \n",
       "703      0.0      0.0      1.0          1.0          0.0          0.0  \n",
       "33       0.0      0.0      0.0          1.0          0.0          0.0  \n",
       "300      0.0      0.0      1.0          0.0          1.0          0.0  \n",
       "456      1.0      0.0      0.0          0.0          1.0          0.0  \n",
       "633      0.0      0.0      1.0          1.0          0.0          0.0  \n",
       "..       ...      ...      ...          ...          ...          ...  \n",
       "110      1.0      0.0      0.0          1.0          0.0          0.0  \n",
       "82       1.0      0.0      0.0          0.0          1.0          0.0  \n",
       "51       0.0      0.0      0.0          0.0          1.0          0.0  \n",
       "522      1.0      0.0      0.0          1.0          0.0          0.0  \n",
       "585      0.0      1.0      0.0          0.0          1.0          0.0  \n",
       "\n",
       "[183 rows x 12 columns]"
      ]
     },
     "execution_count": 29,
     "metadata": {},
     "output_type": "execute_result"
    }
   ],
   "source": [
    "X_test"
   ]
  },
  {
   "cell_type": "code",
   "execution_count": 30,
   "metadata": {},
   "outputs": [
    {
     "data": {
      "text/plain": [
       "RidgeCV(alphas=array([1.e-10, 1.e-09, 1.e-08, 1.e-07, 1.e-06, 1.e-05, 1.e-04, 1.e-03,\n",
       "       1.e-02, 1.e-01, 1.e+00, 1.e+01, 1.e+02, 1.e+03, 1.e+04, 1.e+05,\n",
       "       1.e+06, 1.e+07, 1.e+08, 1.e+09, 1.e+10]))"
      ]
     },
     "execution_count": 30,
     "metadata": {},
     "output_type": "execute_result"
    }
   ],
   "source": [
    "from sklearn.linear_model import RidgeCV\n",
    "from sklearn.metrics import r2_score\n",
    "#del X_train['temp_norm']\n",
    "\n",
    "model_rigde = RidgeCV(alphas=np.logspace(-10, 10, 21))\n",
    "        \n",
    "model_rigde.fit(X_train, y_train)"
   ]
  },
  {
   "cell_type": "code",
   "execution_count": 31,
   "metadata": {},
   "outputs": [
    {
     "data": {
      "text/plain": [
       "0.5299931557961448"
      ]
     },
     "execution_count": 31,
     "metadata": {},
     "output_type": "execute_result"
    }
   ],
   "source": [
    "c_det = r2_score(y_test, y_pred)\n",
    "c_det"
   ]
  },
  {
   "cell_type": "markdown",
   "metadata": {},
   "source": [
    "First we check which value of $\\alpha$ has been selected.\n"
   ]
  },
  {
   "cell_type": "code",
   "execution_count": 32,
   "metadata": {},
   "outputs": [
    {
     "data": {
      "text/plain": [
       "1.0"
      ]
     },
     "execution_count": 32,
     "metadata": {},
     "output_type": "execute_result"
    }
   ],
   "source": [
    "model_rigde.alpha_"
   ]
  },
  {
   "cell_type": "code",
   "execution_count": 39,
   "metadata": {},
   "outputs": [
    {
     "data": {
      "image/png": "[encoded data removed]",
      "text/plain": [
       "<Figure size 360x360 with 1 Axes>"
      ]
     },
     "metadata": {
      "needs_background": "light"
     },
     "output_type": "display_data"
    }
   ],
   "source": [
    "y_pred = model_rigde.predict(X_train)\n",
    "\n",
    "mae = sqrt(mean_squared_error(y_true = y_train, y_pred = y_pred))\n",
    "c_det = r2_score(y_train, y_pred)\n",
    "string_score = f\"Training set: RMSE: {mae:.2f}\" + \", \" + \" R^2: \"  + \"{:.2f}\".format(c_det)\n",
    "y_pred = model_rigde.predict(X_test)\n",
    "mae = sqrt(mean_squared_error(y_true = y_test, y_pred = y_pred))\n",
    "c_det = r2_score(y_test, y_pred)\n",
    "string_score += f\"\\nTesting set: RMSE: {mae:.2f}\" + \", \" + \" R^2: \"  + \"{:.2f}\".format(c_det) \n",
    "fig, ax = plt.subplots(figsize=(5, 5))\n",
    "plt.scatter(y_test, y_pred)\n",
    "ax.plot([0, 1], [0, 1], transform=ax.transAxes, ls=\"--\", c=\"red\")\n",
    "ax.annotate('RMSE: Root mean squared error \\n R^2: Coefficient of determination', xy=(220, -40), xycoords='axes points',\n",
    "            size=10, ha='right', va='top',\n",
    "            bbox=dict(boxstyle='round', fc='w'))\n",
    "plt.text(3, 20, string_score)\n",
    "plt.title(\"Ridge regression (\\u03B1 = 1.0) for registered users\", x=0.5, y=1.03)\n",
    "plt.ylabel(\"Model predictions\")\n",
    "plt.xlabel(\"Truths\")\n",
    "plt.xlim([0, 8000])\n",
    "_ = plt.ylim([0, 8000])\n",
    "plt.savefig('  Number of registered bike rentals ', dpi = 500, bbox_inches='tight')\n"
   ]
  },
  {
   "cell_type": "code",
   "execution_count": 37,
   "metadata": {},
   "outputs": [
    {
     "data": {
      "text/html": [
       "<div>\n",
       "<style scoped>\n",
       "    .dataframe tbody tr th:only-of-type {\n",
       "        vertical-align: middle;\n",
       "    }\n",
       "\n",
       "    .dataframe tbody tr th {\n",
       "        vertical-align: top;\n",
       "    }\n",
       "\n",
       "    .dataframe thead th {\n",
       "        text-align: right;\n",
       "    }\n",
       "</style>\n",
       "<table border=\"1\" class=\"dataframe\">\n",
       "  <thead>\n",
       "    <tr style=\"text-align: right;\">\n",
       "      <th></th>\n",
       "      <th>Coefficients</th>\n",
       "    </tr>\n",
       "  </thead>\n",
       "  <tbody>\n",
       "    <tr>\n",
       "      <th>atemp_norm</th>\n",
       "      <td>768.057721</td>\n",
       "    </tr>\n",
       "    <tr>\n",
       "      <th>hum_norm</th>\n",
       "      <td>-246.869372</td>\n",
       "    </tr>\n",
       "    <tr>\n",
       "      <th>windspeed_norm</th>\n",
       "      <td>-128.234429</td>\n",
       "    </tr>\n",
       "    <tr>\n",
       "      <th>holiday</th>\n",
       "      <td>-171.295155</td>\n",
       "    </tr>\n",
       "    <tr>\n",
       "      <th>workingday</th>\n",
       "      <td>922.525027</td>\n",
       "    </tr>\n",
       "    <tr>\n",
       "      <th>season1</th>\n",
       "      <td>-542.315422</td>\n",
       "    </tr>\n",
       "    <tr>\n",
       "      <th>season2</th>\n",
       "      <td>23.329909</td>\n",
       "    </tr>\n",
       "    <tr>\n",
       "      <th>season3</th>\n",
       "      <td>-229.796058</td>\n",
       "    </tr>\n",
       "    <tr>\n",
       "      <th>season4</th>\n",
       "      <td>748.781571</td>\n",
       "    </tr>\n",
       "    <tr>\n",
       "      <th>weathersit1</th>\n",
       "      <td>487.979402</td>\n",
       "    </tr>\n",
       "    <tr>\n",
       "      <th>weathersit2</th>\n",
       "      <td>328.579428</td>\n",
       "    </tr>\n",
       "    <tr>\n",
       "      <th>weathersit3</th>\n",
       "      <td>-816.558830</td>\n",
       "    </tr>\n",
       "  </tbody>\n",
       "</table>\n",
       "</div>"
      ],
      "text/plain": [
       "                Coefficients\n",
       "atemp_norm        768.057721\n",
       "hum_norm         -246.869372\n",
       "windspeed_norm   -128.234429\n",
       "holiday          -171.295155\n",
       "workingday        922.525027\n",
       "season1          -542.315422\n",
       "season2            23.329909\n",
       "season3          -229.796058\n",
       "season4           748.781571\n",
       "weathersit1       487.979402\n",
       "weathersit2       328.579428\n",
       "weathersit3      -816.558830"
      ]
     },
     "execution_count": 37,
     "metadata": {},
     "output_type": "execute_result"
    }
   ],
   "source": [
    "coefs = pd.DataFrame(\n",
    "    model_rigde.coef_,\n",
    "    columns=[\"Coefficients\"],\n",
    "    index=feature_names,\n",
    ")\n",
    "coefs"
   ]
  },
  {
   "cell_type": "code",
   "execution_count": 40,
   "metadata": {},
   "outputs": [
    {
     "data": {
      "image/png": "[encoded data removed]",
      "text/plain": [
       "<Figure size 648x504 with 1 Axes>"
      ]
     },
     "metadata": {
      "needs_background": "light"
     },
     "output_type": "display_data"
    }
   ],
   "source": [
    "coefs.plot(kind=\"barh\", figsize=(9, 7))\n",
    "plt.title(\"Coefficients of all features for registered users\")\n",
    "plt.axvline(x=0, color=\".5\")\n",
    "plt.subplots_adjust(left=0.3)\n",
    "plt.savefig(' Coefficients Number of registered bike rentals ', dpi = 500)\n"
   ]
  },
  {
   "cell_type": "markdown",
   "metadata": {},
   "source": [
    "## Linear models with sparse coefficients\n",
    "\n",
    "Another possibility to take into account correlated variables in the dataset,\n",
    "is to estimate sparse coefficients. \n",
    "\n",
    "Lasso models (see the `lasso` User Guide section) estimates sparse\n",
    "coefficients. LassoCV applies cross validation in order to\n",
    "determine which value of the regularization parameter (`alpha`) is best\n",
    "suited for the model estimation.\n",
    "\n"
   ]
  },
  {
   "cell_type": "code",
   "execution_count": 35,
   "metadata": {},
   "outputs": [
    {
     "data": {
      "text/plain": [
       "LassoCV(alphas=array([1.e-10, 1.e-09, 1.e-08, 1.e-07, 1.e-06, 1.e-05, 1.e-04, 1.e-03,\n",
       "       1.e-02, 1.e-01, 1.e+00, 1.e+01, 1.e+02, 1.e+03, 1.e+04, 1.e+05,\n",
       "       1.e+06, 1.e+07, 1.e+08, 1.e+09, 1.e+10]))"
      ]
     },
     "execution_count": 35,
     "metadata": {},
     "output_type": "execute_result"
    }
   ],
   "source": [
    "from sklearn.linear_model import LassoCV\n",
    "\n",
    "model_lasso = LassoCV(alphas=np.logspace(-10, 10, 21))\n",
    "\n",
    "model_lasso.fit(X_train, y_train)"
   ]
  },
  {
   "cell_type": "markdown",
   "metadata": {},
   "source": [
    "First we verify which value of $\\alpha$ has been selected.\n"
   ]
  },
  {
   "cell_type": "code",
   "execution_count": 36,
   "metadata": {},
   "outputs": [
    {
     "data": {
      "text/plain": [
       "10.0"
      ]
     },
     "execution_count": 36,
     "metadata": {},
     "output_type": "execute_result"
    }
   ],
   "source": [
    "model_lasso.alpha_"
   ]
  },
  {
   "cell_type": "code",
   "execution_count": 37,
   "metadata": {},
   "outputs": [
    {
     "data": {
      "image/png": "[encoded data removed]",
      "text/plain": [
       "<Figure size 360x360 with 1 Axes>"
      ]
     },
     "metadata": {
      "needs_background": "light"
     },
     "output_type": "display_data"
    }
   ],
   "source": [
    "y_pred = model_lasso.predict(X_train)\n",
    "\n",
    "mae = median_absolute_error(y_train, y_pred)\n",
    "string_score = f\"MAE on training set: {mae:.2f} count\"\n",
    "y_pred = model_lasso.predict(X_test)\n",
    "mae = median_absolute_error(y_test, y_pred)\n",
    "string_score += f\"\\nMAE on testing set: {mae:.2f} count\"\n",
    "fig, ax = plt.subplots(figsize=(5, 5))\n",
    "plt.scatter(y_test, y_pred)\n",
    "ax.plot([0, 1], [0, 1], transform=ax.transAxes, ls=\"--\", c=\"red\")\n",
    "plt.text(3, 20, string_score)\n",
    "plt.title(\"Lasso model, regularization, normalized variables\")\n",
    "plt.ylabel(\"Model predictions\")\n",
    "plt.xlabel(\"Truths\")\n",
    "plt.xlim([0, 8000])\n",
    "_ = plt.ylim([0, 8000])"
   ]
  },
  {
   "cell_type": "code",
   "execution_count": 38,
   "metadata": {},
   "outputs": [
    {
     "data": {
      "text/html": [
       "<div>\n",
       "<style scoped>\n",
       "    .dataframe tbody tr th:only-of-type {\n",
       "        vertical-align: middle;\n",
       "    }\n",
       "\n",
       "    .dataframe tbody tr th {\n",
       "        vertical-align: top;\n",
       "    }\n",
       "\n",
       "    .dataframe thead th {\n",
       "        text-align: right;\n",
       "    }\n",
       "</style>\n",
       "<table border=\"1\" class=\"dataframe\">\n",
       "  <thead>\n",
       "    <tr style=\"text-align: right;\">\n",
       "      <th></th>\n",
       "      <th>Coefficients</th>\n",
       "    </tr>\n",
       "  </thead>\n",
       "  <tbody>\n",
       "    <tr>\n",
       "      <th>atemp_norm</th>\n",
       "      <td>769.414409</td>\n",
       "    </tr>\n",
       "    <tr>\n",
       "      <th>hum_norm</th>\n",
       "      <td>-244.449946</td>\n",
       "    </tr>\n",
       "    <tr>\n",
       "      <th>windspeed_norm</th>\n",
       "      <td>-125.986116</td>\n",
       "    </tr>\n",
       "    <tr>\n",
       "      <th>holiday</th>\n",
       "      <td>-180.778960</td>\n",
       "    </tr>\n",
       "    <tr>\n",
       "      <th>workingday</th>\n",
       "      <td>929.657698</td>\n",
       "    </tr>\n",
       "    <tr>\n",
       "      <th>season1</th>\n",
       "      <td>-545.339165</td>\n",
       "    </tr>\n",
       "    <tr>\n",
       "      <th>season2</th>\n",
       "      <td>21.322469</td>\n",
       "    </tr>\n",
       "    <tr>\n",
       "      <th>season3</th>\n",
       "      <td>-234.489930</td>\n",
       "    </tr>\n",
       "    <tr>\n",
       "      <th>season4</th>\n",
       "      <td>755.075098</td>\n",
       "    </tr>\n",
       "    <tr>\n",
       "      <th>weathersit1</th>\n",
       "      <td>508.758823</td>\n",
       "    </tr>\n",
       "    <tr>\n",
       "      <th>weathersit2</th>\n",
       "      <td>345.776015</td>\n",
       "    </tr>\n",
       "    <tr>\n",
       "      <th>weathersit3</th>\n",
       "      <td>-855.665179</td>\n",
       "    </tr>\n",
       "  </tbody>\n",
       "</table>\n",
       "</div>"
      ],
      "text/plain": [
       "                Coefficients\n",
       "atemp_norm        769.414409\n",
       "hum_norm         -244.449946\n",
       "windspeed_norm   -125.986116\n",
       "holiday          -180.778960\n",
       "workingday        929.657698\n",
       "season1          -545.339165\n",
       "season2            21.322469\n",
       "season3          -234.489930\n",
       "season4           755.075098\n",
       "weathersit1       508.758823\n",
       "weathersit2       345.776015\n",
       "weathersit3      -855.665179"
      ]
     },
     "execution_count": 38,
     "metadata": {},
     "output_type": "execute_result"
    }
   ],
   "source": [
    "coefs = pd.DataFrame(\n",
    "    model.coef_,\n",
    "    columns=[\"Coefficients\"],\n",
    "    index=feature_names,\n",
    ")\n",
    "coefs"
   ]
  },
  {
   "cell_type": "code",
   "execution_count": 39,
   "metadata": {},
   "outputs": [
    {
     "data": {
      "image/png": "[encoded data removed]",
      "text/plain": [
       "<Figure size 648x504 with 1 Axes>"
      ]
     },
     "metadata": {
      "needs_background": "light"
     },
     "output_type": "display_data"
    }
   ],
   "source": [
    "coefs.plot(kind=\"barh\", figsize=(9, 7))\n",
    "plt.title(\"Lasso model, regularization, normalized variables\")\n",
    "plt.axvline(x=0, color=\".5\")\n",
    "plt.subplots_adjust(left=0.3)"
   ]
  },
  {
   "cell_type": "markdown",
   "metadata": {},
   "source": [
    "The features season2 and weathersit2 were both droppes by the Lasso algorithm"
   ]
  },
  {
   "cell_type": "markdown",
   "metadata": {},
   "source": [
    "It is important to keep in mind that the coefficients that have been dropped may still be related to the outcome by themselves: the model chose to suppress them because they bring little or no additional information on top of the other features. Additionally, this selection is unstable for correlated features, and should be interpreted with caution."
   ]
  },
  {
   "cell_type": "markdown",
   "metadata": {},
   "source": [
    "## Selecting features with Sequential Feature Selection\n",
    "\n",
    "Another way of selecting features is to use\n",
    ":class:`~sklearn.feature_selection.SequentialFeatureSelector`\n",
    "(SFS). SFS is a greedy procedure where, at each iteration, we choose the best\n",
    "new feature to add to our selected features based a cross-validation score.\n",
    "That is, we start with 0 features and choose the best single feature with the\n",
    "highest score. The procedure is repeated until we reach the desired number of\n",
    "selected features.\n",
    "\n",
    "We can also go in the reverse direction (backward SFS), *i.e.* start with all\n",
    "the features and greedily choose features to remove one by one. We illustrate\n",
    "both approaches here."
   ]
  },
  {
   "cell_type": "code",
   "execution_count": 40,
   "metadata": {},
   "outputs": [],
   "source": [
    "from time import time\n",
    "from sklearn.feature_selection import SequentialFeatureSelector"
   ]
  },
  {
   "cell_type": "code",
   "execution_count": 41,
   "metadata": {},
   "outputs": [
    {
     "name": "stdout",
     "output_type": "stream",
     "text": [
      "Features selected by forward sequential selection: Index(['holiday', 'workingday', 'season1', 'weathersit1', 'weathersit2',\n",
      "       'weathersit3'],\n",
      "      dtype='object')\n",
      "Done in 2.549s\n",
      "Features selected by backward sequential selection: Index(['hum_norm', 'workingday', 'season1', 'weathersit1', 'weathersit2',\n",
      "       'weathersit3'],\n",
      "      dtype='object')\n",
      "Done in 2.403s\n"
     ]
    }
   ],
   "source": [
    "tic_fwd = time()\n",
    "sfs_forward = SequentialFeatureSelector(\n",
    "    model_rigde, n_features_to_select=6, direction=\"forward\"\n",
    ").fit(X, y)\n",
    "toc_fwd = time()\n",
    "\n",
    "tic_bwd = time()\n",
    "sfs_backward = SequentialFeatureSelector(\n",
    "    model_rigde, n_features_to_select=6, direction=\"backward\"\n",
    ").fit(X, y)\n",
    "toc_bwd = time()\n",
    "\n",
    "print(\n",
    "    \"Features selected by forward sequential selection: \"\n",
    "    f\"{feature_names[sfs_forward.get_support()]}\"\n",
    ")\n",
    "print(f\"Done in {toc_fwd - tic_fwd:.3f}s\")\n",
    "print(\n",
    "    \"Features selected by backward sequential selection: \"\n",
    "    f\"{feature_names[sfs_backward.get_support()]}\"\n",
    ")\n",
    "print(f\"Done in {toc_bwd - tic_bwd:.3f}s\")"
   ]
  },
  {
   "cell_type": "markdown",
   "metadata": {},
   "source": [
    "## Selecting features based on importance\n",
    "\n",
    "Now we want to select the two features which are the most important according\n",
    "to the coefficients. The :class:`~sklearn.feature_selection.SelectFromModel`\n",
    "is meant just for that. :class:`~sklearn.feature_selection.SelectFromModel`\n",
    "accepts a `threshold` parameter and will select the features whose importance\n",
    "(defined by the coefficients) are above this threshold."
   ]
  },
  {
   "cell_type": "code",
   "execution_count": 42,
   "metadata": {},
   "outputs": [
    {
     "name": "stdout",
     "output_type": "stream",
     "text": [
      "Features selected by SelectFromModel: Index(['atemp_norm', 'workingday', 'season1', 'season4', 'weathersit1',\n",
      "       'weathersit2', 'weathersit3'],\n",
      "      dtype='object')\n",
      "Done in 0.039s\n"
     ]
    }
   ],
   "source": [
    "from sklearn.feature_selection import SelectFromModel\n",
    "\n",
    "importance = np.abs(model_rigde.coef_)\n",
    "\n",
    "threshold = np.sort(importance)[-7] + 0.01\n",
    "\n",
    "tic = time()\n",
    "sfm = SelectFromModel(model_rigde, threshold=threshold).fit(X, y)\n",
    "toc = time()\n",
    "print(f\"Features selected by SelectFromModel: {feature_names[sfm.get_support()]}\")\n",
    "print(f\"Done in {toc - tic:.3f}s\")\n"
   ]
  },
  {
   "cell_type": "markdown",
   "metadata": {},
   "source": [
    "Based on the feature selction methods above I discard the features 'workday' and 'season2' and hope that the model might generalize better to the test data."
   ]
  },
  {
   "cell_type": "code",
   "execution_count": 43,
   "metadata": {},
   "outputs": [
    {
     "data": {
      "text/plain": [
       "Index(['atemp_norm', 'hum_norm', 'windspeed_norm', 'holiday', 'workingday',\n",
       "       'season1', 'season2', 'season3', 'season4', 'weathersit1',\n",
       "       'weathersit2', 'weathersit3'],\n",
       "      dtype='object')"
      ]
     },
     "execution_count": 43,
     "metadata": {},
     "output_type": "execute_result"
    }
   ],
   "source": [
    "X_train.columns"
   ]
  },
  {
   "cell_type": "code",
   "execution_count": 44,
   "metadata": {},
   "outputs": [],
   "source": [
    "X_train_new = X_train[['atemp_norm', 'hum_norm', 'windspeed_norm', 'holiday',\n",
    "       'season1', 'season2', 'season3', 'season4', 'weathersit1',\n",
    "       'weathersit2', 'weathersit3']].copy()\n",
    "X_test_new = X_test[['atemp_norm', 'hum_norm', 'windspeed_norm', 'holiday',\n",
    "       'season1', 'season2', 'season3', 'season4', 'weathersit1',\n",
    "       'weathersit2', 'weathersit3']].copy()"
   ]
  },
  {
   "cell_type": "code",
   "execution_count": 45,
   "metadata": {},
   "outputs": [
    {
     "data": {
      "text/plain": [
       "RidgeCV(alphas=array([1.e-10, 1.e-09, 1.e-08, 1.e-07, 1.e-06, 1.e-05, 1.e-04, 1.e-03,\n",
       "       1.e-02, 1.e-01, 1.e+00, 1.e+01, 1.e+02, 1.e+03, 1.e+04, 1.e+05,\n",
       "       1.e+06, 1.e+07, 1.e+08, 1.e+09, 1.e+10]))"
      ]
     },
     "execution_count": 45,
     "metadata": {},
     "output_type": "execute_result"
    }
   ],
   "source": [
    "model_rigde = RidgeCV(alphas=np.logspace(-10, 10, 21))\n",
    "        \n",
    "model_rigde.fit(X_train_new, y_train)"
   ]
  },
  {
   "cell_type": "code",
   "execution_count": 46,
   "metadata": {},
   "outputs": [
    {
     "data": {
      "image/png": "[encoded data removed]",
      "text/plain": [
       "<Figure size 360x360 with 1 Axes>"
      ]
     },
     "metadata": {
      "needs_background": "light"
     },
     "output_type": "display_data"
    }
   ],
   "source": [
    "y_pred = model_rigde.predict(X_train_new)\n",
    "\n",
    "mae = median_absolute_error(y_train, y_pred)\n",
    "string_score = f\"MAE on training set: {mae:.2f} count\"\n",
    "y_pred = model_rigde.predict(X_test_new)\n",
    "mae = median_absolute_error(y_test, y_pred)\n",
    "string_score += f\"\\nMAE on testing set: {mae:.2f} count\"\n",
    "fig, ax = plt.subplots(figsize=(5, 5))\n",
    "plt.scatter(y_test, y_pred)\n",
    "ax.plot([0, 1], [0, 1], transform=ax.transAxes, ls=\"--\", c=\"red\")\n",
    "plt.text(3, 20, string_score)\n",
    "plt.title(\"Ridge model, regularization, normalized variables\")\n",
    "plt.ylabel(\"Model predictions\")\n",
    "plt.xlabel(\"Truths\")\n",
    "plt.xlim([0, 8000])\n",
    "_ = plt.ylim([0, 8000])"
   ]
  },
  {
   "cell_type": "code",
   "execution_count": 47,
   "metadata": {},
   "outputs": [],
   "source": [
    "# does not improve the model, predictive ability gets worse"
   ]
  },
  {
   "cell_type": "code",
   "execution_count": 48,
   "metadata": {},
   "outputs": [],
   "source": [
    "# It seems that discarding any features makes model performance worse, both for training and test data"
   ]
  },
  {
   "cell_type": "code",
   "execution_count": null,
   "metadata": {},
   "outputs": [],
   "source": []
  },
  {
   "cell_type": "code",
   "execution_count": null,
   "metadata": {},
   "outputs": [],
   "source": []
  }
 ],
 "metadata": {
  "kernelspec": {
   "display_name": "Python 3",
   "language": "python",
   "name": "python3"
  },
  "language_info": {
   "codemirror_mode": {
    "name": "ipython",
    "version": 3
   },
   "file_extension": ".py",
   "mimetype": "text/x-python",
   "name": "python",
   "nbconvert_exporter": "python",
   "pygments_lexer": "ipython3",
   "version": "3.8.3"
  }
 },
 "nbformat": 4,
 "nbformat_minor": 4
}
